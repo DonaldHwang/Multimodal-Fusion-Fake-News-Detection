{
 "cells": [
  {
   "cell_type": "code",
   "execution_count": 0,
   "metadata": {
    "colab": {},
    "colab_type": "code",
    "id": "wDL4NsKbop66"
   },
   "outputs": [],
   "source": [
    "!pip install keras-bert\n",
    "!pip install keras-xlnet\n",
    "!pip install tokenization\n",
    "!pip install bert\n",
    "!pip install keras-lr-finder\n",
    "!pip install bert-tensorflow\n",
    "!pip install numpy==1.16.2"
   ]
  },
  {
   "cell_type": "code",
   "execution_count": 1,
   "metadata": {
    "colab": {
     "base_uri": "https://localhost:8080/",
     "height": 309
    },
    "colab_type": "code",
    "executionInfo": {
     "elapsed": 31876,
     "status": "ok",
     "timestamp": 1587217272264,
     "user": {
      "displayName": "Donald Hwang",
      "photoUrl": "https://lh3.googleusercontent.com/a-/AOh14Ggt2dEXAAxTJRTWgMcg8o9qw4QwIywNVNqwOSIQ=s64",
      "userId": "01756396387495312220"
     },
     "user_tz": -480
    },
    "id": "YEN3J7Xkl8gw",
    "outputId": "4ecaec3c-26b9-4f97-ef95-e98be3bcfb95"
   },
   "outputs": [
    {
     "name": "stdout",
     "output_type": "stream",
     "text": [
      "`%tensorflow_version` only switches the major version: 1.x or 2.x.\n",
      "You set: `1.14`. This will be interpreted as: `1.x`.\n",
      "\n",
      "\n",
      "TensorFlow 1.x selected.\n",
      "Device mapping:\n",
      "/job:localhost/replica:0/task:0/device:XLA_CPU:0 -> device: XLA_CPU device\n",
      "/job:localhost/replica:0/task:0/device:XLA_GPU:0 -> device: XLA_GPU device\n",
      "/job:localhost/replica:0/task:0/device:GPU:0 -> device: 0, name: Tesla P100-PCIE-16GB, pci bus id: 0000:00:04.0, compute capability: 6.0\n",
      "\n"
     ]
    },
    {
     "name": "stderr",
     "output_type": "stream",
     "text": [
      "Using TensorFlow backend.\n"
     ]
    },
    {
     "name": "stdout",
     "output_type": "stream",
     "text": [
      "Go to this URL in a browser: https://accounts.google.com/o/oauth2/auth?client_id=947318989803-6bn6qk8qdgf4n4g3pfee6491hc0brc4i.apps.googleusercontent.com&redirect_uri=urn%3aietf%3awg%3aoauth%3a2.0%3aoob&response_type=code&scope=email%20https%3a%2f%2fwww.googleapis.com%2fauth%2fdocs.test%20https%3a%2f%2fwww.googleapis.com%2fauth%2fdrive%20https%3a%2f%2fwww.googleapis.com%2fauth%2fdrive.photos.readonly%20https%3a%2f%2fwww.googleapis.com%2fauth%2fpeopleapi.readonly\n",
      "\n",
      "Enter your authorization code:\n",
      "··········\n",
      "Mounted at /content/gdrive\n"
     ]
    }
   ],
   "source": [
    "%tensorflow_version 1.14\n",
    "import pandas as pd\n",
    "import numpy as np\n",
    "from tqdm import tqdm_notebook\n",
    "\n",
    "import re\n",
    "import string\n",
    "import matplotlib.pyplot as plt\n",
    "%matplotlib inline\n",
    "import copy\n",
    "import cv2\n",
    "from os import listdir\n",
    "from sklearn.metrics import accuracy_score\n",
    "from PIL import Image\n",
    "\n",
    "import tensorflow as tf\n",
    "import tensorflow_hub as hub  #pip install tensorflow_hub\n",
    "import os\n",
    "import tokenization\n",
    "from tensorflow.keras import backend as K\n",
    "#from tokenization import FullTokenizer\n",
    "# from keras import backend as K\n",
    "sess = tf.Session(config=tf.ConfigProto(allow_soft_placement=True, log_device_placement=True))\n",
    "\n",
    "from keras_lr_finder import LRFinder\n",
    "from pprint import pprint\n",
    "tf.logging.set_verbosity(tf.logging.ERROR)\n",
    "from random import choice\n",
    "import gc\n",
    "from bert import tokenization\n",
    "\n",
    "no_of_gpu = 1\n",
    "\n",
    "from google.colab import drive\n",
    "drive.mount('/content/gdrive')\n",
    "os.chdir(\"/content/gdrive/My Drive/Colab Notebooks/data\")"
   ]
  },
  {
   "cell_type": "code",
   "execution_count": 0,
   "metadata": {
    "colab": {},
    "colab_type": "code",
    "id": "jg0ubA5In1Ms"
   },
   "outputs": [],
   "source": [
    "# Params for bert model and tokenization\n",
    "#bert_path = \"https://tfhub.dev/google/bert_chinese_L-12_H-768_A-12/1\"\n",
    "bert_path = \"bert_chinese/\""
   ]
  },
  {
   "cell_type": "code",
   "execution_count": 0,
   "metadata": {
    "colab": {},
    "colab_type": "code",
    "id": "UD4AH2AMl8g2"
   },
   "outputs": [],
   "source": [
    "import os\n",
    "os.environ[\"CUDA_DEVICE_ORDER\"] = 'PCI_BUS_ID'\n",
    "os.environ[\"CUDA_VISIBLE_DEVICES\"] = '0'"
   ]
  },
  {
   "cell_type": "code",
   "execution_count": 0,
   "metadata": {
    "colab": {},
    "colab_type": "code",
    "id": "E9MWGsL5l8g5"
   },
   "outputs": [],
   "source": [
    "np.random.seed(42)\n",
    "tf.set_random_seed(42)"
   ]
  },
  {
   "cell_type": "code",
   "execution_count": 0,
   "metadata": {
    "colab": {},
    "colab_type": "code",
    "id": "eLxKmQell8g8"
   },
   "outputs": [],
   "source": [
    "df = pd.read_csv(\"train.csv\")"
   ]
  },
  {
   "cell_type": "code",
   "execution_count": 0,
   "metadata": {
    "colab": {
     "base_uri": "https://localhost:8080/",
     "height": 68
    },
    "colab_type": "code",
    "executionInfo": {
     "elapsed": 1002,
     "status": "ok",
     "timestamp": 1585810473953,
     "user": {
      "displayName": "Donald Hwang",
      "photoUrl": "https://lh3.googleusercontent.com/a-/AOh14Ggt2dEXAAxTJRTWgMcg8o9qw4QwIywNVNqwOSIQ=s64",
      "userId": "01756396387495312220"
     },
     "user_tz": -480
    },
    "id": "NfyiL5Ldl8g_",
    "outputId": "6001059d-7090-48c6-c4fe-e942543a7f47"
   },
   "outputs": [
    {
     "data": {
      "text/plain": [
       "0    17042\n",
       "1    17010\n",
       "Name: label, dtype: int64"
      ]
     },
     "execution_count": 17,
     "metadata": {
      "tags": []
     },
     "output_type": "execute_result"
    }
   ],
   "source": [
    "df = df.drop_duplicates(\n",
    "    subset=['text', 'piclist', 'userGender', 'userFollowCount', 'userFansCount', 'userWeiboCount', 'userLocation',\n",
    "            'userDescription']).reset_index()\n",
    "data_size = len(df)\n",
    "\n",
    "df['label'].value_counts()"
   ]
  },
  {
   "cell_type": "code",
   "execution_count": 0,
   "metadata": {
    "colab": {
     "base_uri": "https://localhost:8080/",
     "height": 255
    },
    "colab_type": "code",
    "executionInfo": {
     "elapsed": 1776,
     "status": "ok",
     "timestamp": 1585810476552,
     "user": {
      "displayName": "Donald Hwang",
      "photoUrl": "https://lh3.googleusercontent.com/a-/AOh14Ggt2dEXAAxTJRTWgMcg8o9qw4QwIywNVNqwOSIQ=s64",
      "userId": "01756396387495312220"
     },
     "user_tz": -480
    },
    "id": "yAWNIZ0-l8hC",
    "outputId": "d7a16f06-04e1-4e81-c65a-fa6455d66867"
   },
   "outputs": [
    {
     "name": "stdout",
     "output_type": "stream",
     "text": [
      "['userFollowCount', '用户关注数']\n",
      "['userFansCount', '粉丝数']\n",
      "['userWeiboCount', '发布微博数']\n"
     ]
    },
    {
     "data": {
      "text/html": [
       "<div>\n",
       "<style scoped>\n",
       "    .dataframe tbody tr th:only-of-type {\n",
       "        vertical-align: middle;\n",
       "    }\n",
       "\n",
       "    .dataframe tbody tr th {\n",
       "        vertical-align: top;\n",
       "    }\n",
       "\n",
       "    .dataframe thead th {\n",
       "        text-align: right;\n",
       "    }\n",
       "</style>\n",
       "<table border=\"1\" class=\"dataframe\">\n",
       "  <thead>\n",
       "    <tr style=\"text-align: right;\">\n",
       "      <th></th>\n",
       "      <th>textb</th>\n",
       "    </tr>\n",
       "  </thead>\n",
       "  <tbody>\n",
       "    <tr>\n",
       "      <th>0</th>\n",
       "      <td>北京朝阳区@@文体娱乐@@图片个数0@@用户关注数1728@@粉丝数748@@发布微博数30...</td>\n",
       "    </tr>\n",
       "    <tr>\n",
       "      <th>1</th>\n",
       "      <td>云南楚雄@@社会生活@@图片个数1@@用户关注数423@@粉丝数112@@发布微博数792@...</td>\n",
       "    </tr>\n",
       "    <tr>\n",
       "      <th>2</th>\n",
       "      <td>没有地址@@社会生活@@图片个数1@@用户关注数0@@粉丝数0@@发布微博数0@@没有描述</td>\n",
       "    </tr>\n",
       "    <tr>\n",
       "      <th>3</th>\n",
       "      <td>北京东城区@@社会生活@@图片个数1@@用户关注数1668@@粉丝数7470000@@发布微...</td>\n",
       "    </tr>\n",
       "    <tr>\n",
       "      <th>4</th>\n",
       "      <td>江苏盐城@@社会生活@@图片个数0@@用户关注数267@@粉丝数61@@发布微博数1098@...</td>\n",
       "    </tr>\n",
       "  </tbody>\n",
       "</table>\n",
       "</div>"
      ],
      "text/plain": [
       "                                               textb\n",
       "0  北京朝阳区@@文体娱乐@@图片个数0@@用户关注数1728@@粉丝数748@@发布微博数30...\n",
       "1  云南楚雄@@社会生活@@图片个数1@@用户关注数423@@粉丝数112@@发布微博数792@...\n",
       "2      没有地址@@社会生活@@图片个数1@@用户关注数0@@粉丝数0@@发布微博数0@@没有描述\n",
       "3  北京东城区@@社会生活@@图片个数1@@用户关注数1668@@粉丝数7470000@@发布微...\n",
       "4  江苏盐城@@社会生活@@图片个数0@@用户关注数267@@粉丝数61@@发布微博数1098@..."
      ]
     },
     "execution_count": 18,
     "metadata": {
      "tags": []
     },
     "output_type": "execute_result"
    }
   ],
   "source": [
    "data = df\n",
    "data['textb'] = data['userLocation'].fillna('没有地址')\n",
    "data['userDescription'] = \"@@\" + data['userDescription'].fillna('没有描述')\n",
    "data['category'] = \"@@\" + data['category'].fillna('没有分类')\n",
    "data['piclist'] = data['piclist'].fillna('')\n",
    "data['pic_size'] = data['piclist'].apply(lambda x: str(len(x.split(\"\\t\"))) if x else '0')\n",
    "data['pic_size'] = \"@@图片个数\" + data['pic_size']\n",
    "data['textb'] = data['textb'] + data['category'] + data['pic_size']\n",
    "\n",
    "for col_name in [['userFollowCount', '用户关注数'], ['userFansCount', '粉丝数'], ['userWeiboCount', '发布微博数']]:\n",
    "    print(col_name)\n",
    "    col = col_name[0]\n",
    "    name = col_name[1]\n",
    "    data[col] = data[col].fillna(0).map(int)\n",
    "    name = \"@@\" + name\n",
    "    data[col] = name + data[col].map(str)\n",
    "    data['textb'] = data['textb'] + data[col]\n",
    "\n",
    "data['textb'] = data['textb'] + data['userDescription']\n",
    "\n",
    "data[['textb']].head()"
   ]
  },
  {
   "cell_type": "code",
   "execution_count": 0,
   "metadata": {
    "colab": {
     "base_uri": "https://localhost:8080/",
     "height": 236
    },
    "colab_type": "code",
    "executionInfo": {
     "elapsed": 741,
     "status": "error",
     "timestamp": 1585810539004,
     "user": {
      "displayName": "Donald Hwang",
      "photoUrl": "https://lh3.googleusercontent.com/a-/AOh14Ggt2dEXAAxTJRTWgMcg8o9qw4QwIywNVNqwOSIQ=s64",
      "userId": "01756396387495312220"
     },
     "user_tz": -480
    },
    "id": "5azOp-Kdl8hF",
    "outputId": "c9dbf75e-bde3-4fd7-c8cb-21b6e5184ff3"
   },
   "outputs": [
    {
     "ename": "FileNotFoundError",
     "evalue": "ignored",
     "output_type": "error",
     "traceback": [
      "\u001b[0;31m---------------------------------------------------------------------------\u001b[0m",
      "\u001b[0;31mFileNotFoundError\u001b[0m                         Traceback (most recent call last)",
      "\u001b[0;32m<ipython-input-19-905789d97c9f>\u001b[0m in \u001b[0;36m<module>\u001b[0;34m()\u001b[0m\n\u001b[0;32m----> 1\u001b[0;31m \u001b[0mlist_images_dir\u001b[0m \u001b[0;34m=\u001b[0m \u001b[0mlistdir\u001b[0m\u001b[0;34m(\u001b[0m\u001b[0;34m'data/images/'\u001b[0m\u001b[0;34m)\u001b[0m\u001b[0;34m\u001b[0m\u001b[0;34m\u001b[0m\u001b[0m\n\u001b[0m\u001b[1;32m      2\u001b[0m \u001b[0mnum\u001b[0m \u001b[0;34m=\u001b[0m \u001b[0;36m0\u001b[0m\u001b[0;34m\u001b[0m\u001b[0;34m\u001b[0m\u001b[0m\n\u001b[1;32m      3\u001b[0m \u001b[0mprint\u001b[0m\u001b[0;34m(\u001b[0m\u001b[0mdata\u001b[0m\u001b[0;34m[\u001b[0m\u001b[0;34m'piclist'\u001b[0m\u001b[0;34m]\u001b[0m\u001b[0;34m[\u001b[0m\u001b[0;36m9\u001b[0m\u001b[0;34m]\u001b[0m\u001b[0;34m)\u001b[0m\u001b[0;34m\u001b[0m\u001b[0;34m\u001b[0m\u001b[0m\n\u001b[1;32m      4\u001b[0m \u001b[0;34m\u001b[0m\u001b[0m\n\u001b[1;32m      5\u001b[0m \u001b[0;32mfor\u001b[0m \u001b[0mi\u001b[0m \u001b[0;32min\u001b[0m \u001b[0mdata\u001b[0m\u001b[0;34m[\u001b[0m\u001b[0;34m'piclist'\u001b[0m\u001b[0;34m]\u001b[0m\u001b[0;34m[\u001b[0m\u001b[0;36m9\u001b[0m\u001b[0;34m]\u001b[0m\u001b[0;34m.\u001b[0m\u001b[0msplit\u001b[0m\u001b[0;34m(\u001b[0m\u001b[0;34m\"     \"\u001b[0m\u001b[0;34m)\u001b[0m\u001b[0;34m:\u001b[0m\u001b[0;34m\u001b[0m\u001b[0;34m\u001b[0m\u001b[0m\n",
      "\u001b[0;31mFileNotFoundError\u001b[0m: [Errno 2] No such file or directory: 'data/images/'"
     ]
    }
   ],
   "source": [
    "list_images_dir = listdir('data/images/')\n",
    "num = 0\n",
    "print(data['piclist'][9])\n",
    "\n",
    "for i in data['piclist'][9].split(\"\t\"):\n",
    "    plt.imshow(Image.open(\"data/images/\" + str(i)))"
   ]
  },
  {
   "cell_type": "code",
   "execution_count": 0,
   "metadata": {
    "colab": {},
    "colab_type": "code",
    "id": "ooo3V3Phl8hH"
   },
   "outputs": [],
   "source": [
    "broken_pic = ['data/images/8bf6bc37d0a977f7e5424dc6ba58cc30.jpg',\n",
    " 'data/images/2654c75fd0771c8868d19dc5c8d8bd0e.jpg',\n",
    " 'data/images/68f465018884a65c1a1e7112bd43cd5a.jpg',\n",
    " 'data/images/90f61d893579340b62fa835b60bd8d3d.jpg',\n",
    " 'data/images/1f5202565a59f057936872495f8b42c6.jpg',\n",
    " 'data/images/60e7f40411a56d1d182eb28a63b6689d.jpg',\n",
    " 'data/images/86d84cb1d26e2af443a171fe4d6bad56.jpg',\n",
    " 'data/images/df7f947d83a8d673b951f3dfd792000e.jpg',\n",
    " 'data/images/8831a5da197f04a78383145719243f59.jpg',\n",
    " 'data/images/3e2704ce900278f94f7195ad2b69fa1e.jpg',\n",
    " 'data/images/91016adaaba8f38360ca6402e4454070.jpg',\n",
    " 'data/images/be8902bf59dcc611e6806d6f501b58b5.jpg',\n",
    " 'data/images/7df40dab3d3cf65af329641c06523343.jpg',\n",
    " 'data/images/651ed4e8dc3e6550ad3dc7c1b2a81862.jpg',\n",
    " 'data/images/f80d5515d4caa4631a2e57f07b21908c.jpg',\n",
    " 'data/images/bbe0af60586653eb536494e5e6cddbed.jpg',\n",
    " 'data/images/f8dd8b98eba5ffb76eaec9ea823d6632.jpg',\n",
    " 'data/images/99bceb0f305537eae98b35ec6dd551bb.jpg',\n",
    " 'data/images/912e4c8b65a4ed55f8f8d3c8e19e9583.jpg',\n",
    " 'data/images/58f00271e9b039a033a89c4f8fbc4dbf.jpg',\n",
    " 'data/images/355fd1d32bb83ed1595e18259d76e1a3.jpg',\n",
    " 'data/images/81937b140359a35198d44b045cce3339.jpg',\n",
    " 'data/images/c3617bd03cc014f4f64207b6347203cf.jpg',\n",
    " 'data/images/3dcc8031a292f17a1df4997e4204ad31.jpg',\n",
    " 'data/images/3ca7a6b182d3bce4ecaa9878b6ec9172.jpg',\n",
    " 'data/images/4b3698fa04ed26064c7feb3729d3605a.jpg',\n",
    " 'data/images/e5c1acc6ca4677f6957562dea00a46e1.jpg',\n",
    " 'data/images/958324ac129e0a39427019ea23306e1f.jpg',\n",
    " 'data/images/2024c1ebb9b4279d07c05c1534003938.jpg',\n",
    " 'data/images/39e9728530e6d2fedcadfcec154a2f5c.jpg',\n",
    " 'data/images/2024c1ebb9b4279d07c05c1534003938.jpg',\n",
    " 'data/images/711d3c7a7a677a59e81114231f8415dd.jpg',\n",
    " 'data/images/27a17a5132f958f970d0e4a230eb3b57.jpg',\n",
    " 'data/images/213a3e86a3aaa538998ae564b6739113.jpg',\n",
    " 'data/images/6bbd638534a1797b66c49654476afd61.jpg',\n",
    " 'data/images/8943a5aa71a8960c5f96eef92706e0ab.jpg',\n",
    " 'data/images/a5e6cc73755ea90a4a8b0c9a745fe1c5.jpg',\n",
    " 'data/images/d7d917eb6c4302155fba7be1eb4f66ea.jpg',\n",
    " 'data/images/ac57cec354d50d931a4bab2f246e462a.jpg',\n",
    " 'data/images/6cce4bb5ad74e141e175465b114343b2.jpg',\n",
    " 'data/images/213a3e86a3aaa538998ae564b6739113.jpg',\n",
    " 'data/images/2a7aadf023019df8f660bf8ddad01d7d.jpg',\n",
    " 'data/images/e972ebd97382d52ec3de79bca2c7918d.jpg',\n",
    " 'data/images/06bac8cf4514020ffe1d1153ab62b61c.jpg',\n",
    " 'data/images/1bcd13f173cc3e734d31c74bef2c1625.jpg',\n",
    " 'data/images/132dafb3daa3827cdcd1ea38879ac48a.jpg',\n",
    " 'data/images/849eb890650fbd6b4ddbadc1028a5783.jpg']\n",
    "\n",
    "def index_to_delete(list_):\n",
    "    list_images_dir = listdir('data/images/')\n",
    "    index = []\n",
    "    for i,v in enumerate(list_):\n",
    "        image_list = v.split('\t')\n",
    "        if str(v) == '':\n",
    "            index.append(i)\n",
    "        if image_list[0] not in list_images_dir:\n",
    "            index.append(i)\n",
    "        if \".gif\" in v:\n",
    "            index.append(i)\n",
    "        for j in broken_pic:\n",
    "            if str('data/images/' +v) in j:\n",
    "                index.append(i)\n",
    "    return list(set(index))"
   ]
  },
  {
   "cell_type": "code",
   "execution_count": 0,
   "metadata": {
    "colab": {},
    "colab_type": "code",
    "id": "7Lz_kVZ2l8hK",
    "outputId": "fa62d617-7528-410a-a32f-5a2803533407"
   },
   "outputs": [
    {
     "data": {
      "text/plain": [
       "14850"
      ]
     },
     "execution_count": 9,
     "metadata": {
      "tags": []
     },
     "output_type": "execute_result"
    }
   ],
   "source": [
    "data_delete_index = index_to_delete(data['piclist'])\n",
    "len(data_delete_index)"
   ]
  },
  {
   "cell_type": "code",
   "execution_count": 0,
   "metadata": {
    "colab": {},
    "colab_type": "code",
    "id": "E0t4pndUl8hM"
   },
   "outputs": [],
   "source": [
    "data_image = np.array(data['piclist'])\n",
    "data_text = np.array(data['text'])\n",
    "data_label = np.array(data['label'])"
   ]
  },
  {
   "cell_type": "code",
   "execution_count": 0,
   "metadata": {
    "colab": {},
    "colab_type": "code",
    "id": "NYo7jqail8hP"
   },
   "outputs": [],
   "source": [
    "data_image = np.delete(data_image, data_delete_index)\n",
    "data_text = np.delete(data_text, data_delete_index)\n",
    "data_label = np.delete(data_label, data_delete_index)"
   ]
  },
  {
   "cell_type": "code",
   "execution_count": 0,
   "metadata": {
    "colab": {},
    "colab_type": "code",
    "id": "_Wt9UtmPl8hQ"
   },
   "outputs": [],
   "source": [
    "for i in range(len(data_image)):\n",
    "    image_list = data_image[i].split('\t')\n",
    "    if len(image_list)> 1:\n",
    "        data_image[i] = image_list[0]\n"
   ]
  },
  {
   "cell_type": "code",
   "execution_count": 0,
   "metadata": {
    "colab": {},
    "colab_type": "code",
    "id": "IH30mhqPl8hS",
    "outputId": "094c0f75-7281-44c8-873d-d3f59fc949f3"
   },
   "outputs": [
    {
     "data": {
      "text/plain": [
       "array([ 3234,  9459, 14700, ...,  5390,   860, 15795])"
      ]
     },
     "execution_count": 13,
     "metadata": {
      "tags": []
     },
     "output_type": "execute_result"
    }
   ],
   "source": [
    "shuffle_index= np.arange(len(data_image))\n",
    "np.random.shuffle(shuffle_index)\n",
    "data_image = data_image[shuffle_index]\n",
    "data_text = data_text[shuffle_index]\n",
    "data_label = data_label[shuffle_index]\n",
    "\n",
    "shuffle_index"
   ]
  },
  {
   "cell_type": "code",
   "execution_count": 0,
   "metadata": {
    "colab": {},
    "colab_type": "code",
    "id": "13UajuM9l8hV"
   },
   "outputs": [],
   "source": [
    "np.save('data_image.npy',data_image)\n",
    "np.save('data_text.npy',data_text)\n",
    "np.save('data_label.npy',data_label)"
   ]
  },
  {
   "cell_type": "code",
   "execution_count": 0,
   "metadata": {
    "colab": {},
    "colab_type": "code",
    "id": "sSXG9GsupcF8"
   },
   "outputs": [],
   "source": [
    "data_image = np.load('data_image_1.npy')\n",
    "data_text = np.load('data_text_1.npy')\n",
    "data_label = np.load('data_label_1.npy')\n",
    "data_description = np.load('data_description_1.npy')"
   ]
  },
  {
   "cell_type": "code",
   "execution_count": 0,
   "metadata": {
    "colab": {
     "base_uri": "https://localhost:8080/",
     "height": 34
    },
    "colab_type": "code",
    "executionInfo": {
     "elapsed": 1485,
     "status": "ok",
     "timestamp": 1585813702934,
     "user": {
      "displayName": "Donald Hwang",
      "photoUrl": "https://lh3.googleusercontent.com/a-/AOh14Ggt2dEXAAxTJRTWgMcg8o9qw4QwIywNVNqwOSIQ=s64",
      "userId": "01756396387495312220"
     },
     "user_tz": -480
    },
    "id": "vB5w9uURl8hX",
    "outputId": "903f5e57-081d-4725-c644-ca2f082c93e2"
   },
   "outputs": [
    {
     "data": {
      "text/plain": [
       "(19209, 19209, 19209, 19209)"
      ]
     },
     "execution_count": 23,
     "metadata": {
      "tags": []
     },
     "output_type": "execute_result"
    }
   ],
   "source": [
    "len(data_image), len(data_text), len(data_label), len(data_description)"
   ]
  },
  {
   "cell_type": "code",
   "execution_count": 0,
   "metadata": {
    "colab": {},
    "colab_type": "code",
    "id": "iFoQN-76l8ha"
   },
   "outputs": [],
   "source": [
    "length = int(len(data_image) * 0.8)\n",
    "train_images = data_image[:length]\n",
    "train_text = data_text[:length]\n",
    "trainY = data_label[:length]\n",
    "train_description = data_description[:length]\n",
    "test_images = data_image[length:]\n",
    "test_text = data_text[length:]\n",
    "testY = data_label[length:]\n",
    "test_description = data_description[length:]"
   ]
  },
  {
   "cell_type": "code",
   "execution_count": 0,
   "metadata": {
    "colab": {
     "base_uri": "https://localhost:8080/",
     "height": 34
    },
    "colab_type": "code",
    "executionInfo": {
     "elapsed": 1167,
     "status": "ok",
     "timestamp": 1585813746320,
     "user": {
      "displayName": "Donald Hwang",
      "photoUrl": "https://lh3.googleusercontent.com/a-/AOh14Ggt2dEXAAxTJRTWgMcg8o9qw4QwIywNVNqwOSIQ=s64",
      "userId": "01756396387495312220"
     },
     "user_tz": -480
    },
    "id": "9oZjf_c3l8hc",
    "outputId": "76f27ee1-b62a-4abc-8f45-e2afa79ea1bf",
    "scrolled": true
   },
   "outputs": [
    {
     "data": {
      "text/plain": [
       "(15367, 3842, 15367, 3842)"
      ]
     },
     "execution_count": 25,
     "metadata": {
      "tags": []
     },
     "output_type": "execute_result"
    }
   ],
   "source": [
    "len(train_images),len(test_images), len(trainY), len(testY)"
   ]
  },
  {
   "cell_type": "code",
   "execution_count": 0,
   "metadata": {
    "colab": {},
    "colab_type": "code",
    "id": "P5Xl1E-Xl8hf"
   },
   "outputs": [],
   "source": [
    "# calculate the maximum document length\n",
    "def max_length(lines):\n",
    "    return max([len(s) for s in lines])"
   ]
  },
  {
   "cell_type": "code",
   "execution_count": 0,
   "metadata": {
    "colab": {
     "base_uri": "https://localhost:8080/",
     "height": 350
    },
    "colab_type": "code",
    "executionInfo": {
     "elapsed": 983,
     "status": "ok",
     "timestamp": 1585813751193,
     "user": {
      "displayName": "Donald Hwang",
      "photoUrl": "https://lh3.googleusercontent.com/a-/AOh14Ggt2dEXAAxTJRTWgMcg8o9qw4QwIywNVNqwOSIQ=s64",
      "userId": "01756396387495312220"
     },
     "user_tz": -480
    },
    "id": "hidY_HUXl8hh",
    "outputId": "1e54609d-ff50-41ae-f834-b8ebe201259b",
    "scrolled": false
   },
   "outputs": [
    {
     "name": "stdout",
     "output_type": "stream",
     "text": [
      "max len 1994\n"
     ]
    },
    {
     "data": {
      "text/plain": [
       "(array([2234., 2955., 8252., 1149.,  322.,  136.,   66.,   49.,   34.,\n",
       "          12.]),\n",
       " array([  0,  50, 100, 150, 200, 250, 300, 350, 400, 450, 498]),\n",
       " <a list of 10 Patch objects>)"
      ]
     },
     "execution_count": 27,
     "metadata": {
      "tags": []
     },
     "output_type": "execute_result"
    },
    {
     "data": {
      "image/png": "[encoded data removed]",
      "text/plain": [
       "<Figure size 432x288 with 1 Axes>"
      ]
     },
     "metadata": {
      "tags": []
     },
     "output_type": "display_data"
    }
   ],
   "source": [
    "print(f'max len {max_length(train_text)}')\n",
    "plt.hist([len(s) for s in train_text],bins=[0,50,100,150,200,250,300,350,400,450,498])"
   ]
  },
  {
   "cell_type": "code",
   "execution_count": 0,
   "metadata": {
    "colab": {},
    "colab_type": "code",
    "id": "dK7Ma0sYl8hj"
   },
   "outputs": [],
   "source": [
    "max_seq_length = 512"
   ]
  },
  {
   "cell_type": "code",
   "execution_count": 0,
   "metadata": {
    "colab": {},
    "colab_type": "code",
    "id": "gaDTE3d3hg5E"
   },
   "outputs": [],
   "source": [
    "train_text = np.load('train_text.npy')\n",
    "trainY = np.load('train_label.npy')\n",
    "test_text = np.load('test_text.npy')\n",
    "testY = np.load('test_label.npy')\n",
    "\n",
    "visual_train = np.load('visual_features_train.npy')\n",
    "visual_test = np.load('visual_features_test.npy')"
   ]
  },
  {
   "cell_type": "markdown",
   "metadata": {
    "colab_type": "text",
    "id": "0whhWXWzl8hl"
   },
   "source": [
    "# Text part"
   ]
  },
  {
   "cell_type": "code",
   "execution_count": 8,
   "metadata": {
    "colab": {
     "base_uri": "https://localhost:8080/",
     "height": 149,
     "referenced_widgets": [
      "d6b0d125fdcb449292561814d243b096",
      "ab4b7a53a2de456eb7b63d1d893277b9",
      "202a52fcde86435585fc34f60ea1e0eb",
      "60d2e75408d5497ba763bbf99892d03c",
      "22f08ff82103457baf0451258b88a231",
      "0c124194fd4144dba6de7d8da4210f17",
      "157314abf2ec45b9a6d0de565fa06005",
      "7d6ad0d07ddb43b381a30e57a2ab5953",
      "0e952f7ef3304cf0a1ca8fe380f69e68",
      "e6d028225d4c407db375742552fa7aa8",
      "9d54e387b33f4f7dacea4a2e79825194",
      "c609a118df434330ababa009a851d4bc",
      "fd0d3b9268e9401e8a084b5542ad3965",
      "7dd57caef0f94ca2a2ddbfbadc8280d6",
      "a34d2bf44d644e3c82c814140322162f",
      "a39209fd064f4e3ea777008318e93f28"
     ]
    },
    "colab_type": "code",
    "executionInfo": {
     "elapsed": 24148,
     "status": "ok",
     "timestamp": 1587217589288,
     "user": {
      "displayName": "Donald Hwang",
      "photoUrl": "https://lh3.googleusercontent.com/a-/AOh14Ggt2dEXAAxTJRTWgMcg8o9qw4QwIywNVNqwOSIQ=s64",
      "userId": "01756396387495312220"
     },
     "user_tz": -480
    },
    "id": "xj4ew6ofl8hl",
    "outputId": "fde8b573-960e-4c70-d793-b11591ead5ec"
   },
   "outputs": [
    {
     "name": "stderr",
     "output_type": "stream",
     "text": [
      "/usr/local/lib/python3.6/dist-packages/ipykernel_launcher.py:89: TqdmDeprecationWarning: This function will be removed in tqdm==5.0.0\n",
      "Please use `tqdm.notebook.tqdm` instead of `tqdm.tqdm_notebook`\n"
     ]
    },
    {
     "data": {
      "application/vnd.jupyter.widget-view+json": {
       "model_id": "d6b0d125fdcb449292561814d243b096",
       "version_major": 2,
       "version_minor": 0
      },
      "text/plain": [
       "HBox(children=(IntProgress(value=0, description='Converting examples to features', max=15356, style=ProgressSt…"
      ]
     },
     "metadata": {
      "tags": []
     },
     "output_type": "display_data"
    },
    {
     "name": "stdout",
     "output_type": "stream",
     "text": [
      "\n"
     ]
    },
    {
     "data": {
      "application/vnd.jupyter.widget-view+json": {
       "model_id": "0e952f7ef3304cf0a1ca8fe380f69e68",
       "version_major": 2,
       "version_minor": 0
      },
      "text/plain": [
       "HBox(children=(IntProgress(value=0, description='Converting examples to features', max=3839, style=ProgressSty…"
      ]
     },
     "metadata": {
      "tags": []
     },
     "output_type": "display_data"
    },
    {
     "name": "stdout",
     "output_type": "stream",
     "text": [
      "\n"
     ]
    }
   ],
   "source": [
    "class PaddingInputExample(object):\n",
    "    \"\"\"Fake example so the num input examples is a multiple of the batch size.\n",
    "  When running eval/predict on the TPU, we need to pad the number of examples\n",
    "  to be a multiple of the batch size, because the TPU requires a fixed batch\n",
    "  size. The alternative is to drop the last batch, which is bad because it means\n",
    "  the entire output data won't be generated.\n",
    "  We use this class instead of `None` because treating `None` as padding\n",
    "  battches could cause silent errors.\n",
    "  \"\"\"\n",
    "\n",
    "class InputExample(object):\n",
    "    \"\"\"A single training/test example for simple sequence classification.\"\"\"\n",
    "\n",
    "    def __init__(self, guid, text_a, text_b=None, label=None):\n",
    "        \"\"\"Constructs a InputExample.\n",
    "    Args:\n",
    "      guid: Unique id for the example.\n",
    "      text_a: string. The untokenized text of the first sequence. For single\n",
    "        sequence tasks, only this sequence must be specified.\n",
    "      text_b: (Optional) string. The untokenized text of the second sequence.\n",
    "        Only must be specified for sequence pair tasks.\n",
    "      label: (Optional) string. The label of the example. This should be\n",
    "        specified for train and dev examples, but not for test examples.\n",
    "    \"\"\"\n",
    "        self.guid = guid\n",
    "        self.text_a = text_a\n",
    "        self.text_b = text_b\n",
    "        self.label = label\n",
    "\n",
    "def create_tokenizer_from_hub_module():\n",
    "    \"\"\"Get the vocab file and casing info from the Hub module.\"\"\"\n",
    "    bert_module =  hub.Module(bert_path)\n",
    "    tokenization_info = bert_module(signature=\"tokenization_info\", as_dict=True)\n",
    "    vocab_file, do_lower_case = sess.run(\n",
    "        [\n",
    "            tokenization_info[\"vocab_file\"],\n",
    "            tokenization_info[\"do_lower_case\"],\n",
    "        ]\n",
    "    )\n",
    "\n",
    "    return tokenization.FullTokenizer(vocab_file=vocab_file, do_lower_case=do_lower_case)\n",
    "\n",
    "def convert_single_example(tokenizer, example, max_seq_length=256):\n",
    "    \"\"\"Converts a single `InputExample` into a single `InputFeatures`.\"\"\"\n",
    "\n",
    "    if isinstance(example, PaddingInputExample):\n",
    "        input_ids = [0] * max_seq_length\n",
    "        input_mask = [0] * max_seq_length\n",
    "        segment_ids = [0] * max_seq_length\n",
    "        label = 0\n",
    "        return input_ids, input_mask, segment_ids, label\n",
    "\n",
    "    tokens_a = tokenizer.tokenize(example.text_a)\n",
    "    if len(tokens_a) > max_seq_length - 2:\n",
    "        tokens_a = tokens_a[0 : (max_seq_length - 2)]\n",
    "\n",
    "    tokens = []\n",
    "    segment_ids = []\n",
    "    tokens.append(\"[CLS]\")\n",
    "    segment_ids.append(0)\n",
    "    for token in tokens_a:\n",
    "        tokens.append(token)\n",
    "        segment_ids.append(0)\n",
    "    tokens.append(\"[SEP]\")\n",
    "    segment_ids.append(0)\n",
    "\n",
    "    input_ids = tokenizer.convert_tokens_to_ids(tokens)\n",
    "\n",
    "    # The mask has 1 for real tokens and 0 for padding tokens. Only real\n",
    "    # tokens are attended to.\n",
    "    input_mask = [1] * len(input_ids)\n",
    "\n",
    "    # Zero-pad up to the sequence length.\n",
    "    while len(input_ids) < max_seq_length:\n",
    "        input_ids.append(0)\n",
    "        input_mask.append(0)\n",
    "        segment_ids.append(0)\n",
    "\n",
    "    assert len(input_ids) == max_seq_length\n",
    "    assert len(input_mask) == max_seq_length\n",
    "    assert len(segment_ids) == max_seq_length\n",
    "\n",
    "    return input_ids, input_mask, segment_ids, example.label\n",
    "\n",
    "def convert_examples_to_features(tokenizer, examples, max_seq_length=256):\n",
    "    \"\"\"Convert a set of `InputExample`s to a list of `InputFeatures`.\"\"\"\n",
    "\n",
    "    input_ids, input_masks, segment_ids, labels = [], [], [], []\n",
    "    for example in tqdm_notebook(examples, desc=\"Converting examples to features\"):\n",
    "        input_id, input_mask, segment_id, label = convert_single_example(\n",
    "            tokenizer, example, max_seq_length\n",
    "        )\n",
    "        input_ids.append(input_id)\n",
    "        input_masks.append(input_mask)\n",
    "        segment_ids.append(segment_id)\n",
    "        labels.append(label)\n",
    "    return (\n",
    "        np.array(input_ids),\n",
    "        np.array(input_masks),\n",
    "        np.array(segment_ids),\n",
    "        np.array(labels).reshape(-1, 1),\n",
    "    )\n",
    "\n",
    "def convert_text_to_examples(texts, labels):\n",
    "    \"\"\"Create InputExamples\"\"\"\n",
    "    InputExamples = []\n",
    "    for text, label in zip(texts, labels):\n",
    "        InputExamples.append(\n",
    "            InputExample(guid=None, text_a=\" \".join(text), text_b=None, label=label)\n",
    "        )\n",
    "    return InputExamples\n",
    "\n",
    "# Instantiate tokenizer\n",
    "tokenizer = create_tokenizer_from_hub_module()\n",
    "\n",
    "# Convert data to InputExample format\n",
    "train_examples = convert_text_to_examples(train_text, trainY)\n",
    "test_examples = convert_text_to_examples(test_text, testY)\n",
    "\n",
    "# Convert to features\n",
    "(train_input_ids, train_input_masks, train_segment_ids, trainY \n",
    ") = convert_examples_to_features(tokenizer, train_examples, max_seq_length=max_seq_length)\n",
    "(test_input_ids, test_input_masks, test_segment_ids, testY\n",
    ") = convert_examples_to_features(tokenizer, test_examples, max_seq_length=max_seq_length)"
   ]
  },
  {
   "cell_type": "markdown",
   "metadata": {
    "colab_type": "text",
    "id": "F7fqYmvfl8ho"
   },
   "source": [
    "# Image Part"
   ]
  },
  {
   "cell_type": "code",
   "execution_count": 0,
   "metadata": {
    "colab": {},
    "colab_type": "code",
    "id": "fv4fu8svl8hq"
   },
   "outputs": [],
   "source": [
    "length = 224\n",
    "width = 224\n",
    "channels = 3"
   ]
  },
  {
   "cell_type": "code",
   "execution_count": 0,
   "metadata": {
    "colab": {},
    "colab_type": "code",
    "id": "ysM3bldGl8hs"
   },
   "outputs": [],
   "source": [
    "error = []\n",
    "def read_and_process_image(list_of_images):\n",
    "    X = [] \n",
    "    for image in tqdm_notebook(list_of_images):\n",
    "#         print(image)\n",
    "        a = cv2.imread(image, cv2.IMREAD_COLOR)\n",
    "        try:\n",
    "            X.append(cv2.resize(a, (length,width), interpolation=cv2.INTER_CUBIC))  \n",
    "        except:\n",
    "            print(a)\n",
    "            error.append(image)\n",
    "    return X"
   ]
  },
  {
   "cell_type": "code",
   "execution_count": 0,
   "metadata": {
    "colab": {},
    "colab_type": "code",
    "id": "IdQkvYs2l8hu"
   },
   "outputs": [],
   "source": [
    "train_images = ['data/images/'+i for i in train_images]\n",
    "test_images = ['data/images/'+i for i in test_images]"
   ]
  },
  {
   "cell_type": "code",
   "execution_count": 0,
   "metadata": {
    "colab": {
     "referenced_widgets": [
      "1e763bd82eb54850939e5dd8a3d8c08b",
      "81e1249d7e5a4f25baea6c5401918011"
     ]
    },
    "colab_type": "code",
    "id": "r-BU-nQ4l8hw",
    "outputId": "56ed0bc9-5a3d-4538-9689-0d36c15c8f7b"
   },
   "outputs": [
    {
     "name": "stderr",
     "output_type": "stream",
     "text": [
      "D:\\soft\\Anaconda3\\lib\\site-packages\\ipykernel_launcher.py:4: TqdmDeprecationWarning: This function will be removed in tqdm==5.0.0\n",
      "Please use `tqdm.notebook.tqdm` instead of `tqdm.tqdm_notebook`\n",
      "  after removing the cwd from sys.path.\n"
     ]
    },
    {
     "data": {
      "application/vnd.jupyter.widget-view+json": {
       "model_id": "1e763bd82eb54850939e5dd8a3d8c08b",
       "version_major": 2,
       "version_minor": 0
      },
      "text/plain": [
       "HBox(children=(FloatProgress(value=0.0, max=15361.0), HTML(value='')))"
      ]
     },
     "metadata": {
      "tags": []
     },
     "output_type": "display_data"
    },
    {
     "name": "stdout",
     "output_type": "stream",
     "text": [
      "\n"
     ]
    },
    {
     "data": {
      "application/vnd.jupyter.widget-view+json": {
       "model_id": "81e1249d7e5a4f25baea6c5401918011",
       "version_major": 2,
       "version_minor": 0
      },
      "text/plain": [
       "HBox(children=(FloatProgress(value=0.0, max=3841.0), HTML(value='')))"
      ]
     },
     "metadata": {
      "tags": []
     },
     "output_type": "display_data"
    },
    {
     "name": "stdout",
     "output_type": "stream",
     "text": [
      "\n"
     ]
    }
   ],
   "source": [
    "train_imagesX = read_and_process_image(train_images)\n",
    "test_imagesX = read_and_process_image(test_images)"
   ]
  },
  {
   "cell_type": "code",
   "execution_count": 0,
   "metadata": {
    "colab": {},
    "colab_type": "code",
    "id": "5htGJClMl8hy",
    "outputId": "cafdd7de-3f94-4d9f-9cb5-b0d6d7c48bcc"
   },
   "outputs": [
    {
     "data": {
      "text/plain": [
       "[]"
      ]
     },
     "execution_count": 25,
     "metadata": {
      "tags": []
     },
     "output_type": "execute_result"
    }
   ],
   "source": [
    "error"
   ]
  },
  {
   "cell_type": "code",
   "execution_count": 0,
   "metadata": {
    "colab": {},
    "colab_type": "code",
    "id": "HXsSc1Mnl8h0"
   },
   "outputs": [],
   "source": [
    "np.save('train_imagesX.npy', train_imagesX)\n",
    "np.save('test_imagesX.npy', test_imagesX)"
   ]
  },
  {
   "cell_type": "code",
   "execution_count": 0,
   "metadata": {
    "colab": {},
    "colab_type": "code",
    "id": "TRsjGbewl8h2"
   },
   "outputs": [],
   "source": [
    "train_imagesX = np.load('train_imagesX.npy')\n",
    "test_imagesX = np.load('test_imagesX.npy')"
   ]
  },
  {
   "cell_type": "code",
   "execution_count": 0,
   "metadata": {
    "colab": {},
    "colab_type": "code",
    "id": "XtllR1Mcl8h3"
   },
   "outputs": [],
   "source": [
    "class BertLayer(tf.keras.layers.Layer):\n",
    "    def __init__(self, n_fine_tune_layers=10, **kwargs):\n",
    "        self.n_fine_tune_layers = n_fine_tune_layers\n",
    "        self.trainable = True\n",
    "        self.output_size = 768\n",
    "        super(BertLayer, self).__init__(**kwargs)\n",
    "\n",
    "    def build(self, input_shape):\n",
    "        self.bert = hub.Module(\n",
    "            bert_path,\n",
    "            trainable=self.trainable,\n",
    "            name=\"{}_module\".format(self.name)\n",
    "        )\n",
    "\n",
    "        trainable_vars = self.bert.variables\n",
    "\n",
    "        # Remove unused layers\n",
    "        trainable_vars = [var for var in trainable_vars if not \"/cls/\" in var.name]\n",
    "\n",
    "        # Select how many layers to fine tune\n",
    "        trainable_vars = trainable_vars[-self.n_fine_tune_layers :]\n",
    "\n",
    "        # Add to trainable weights\n",
    "        for var in trainable_vars:\n",
    "            self._trainable_weights.append(var)\n",
    "            \n",
    "        for var in self.bert.variables:\n",
    "            if var not in self._trainable_weights:\n",
    "                self._non_trainable_weights.append(var)\n",
    "\n",
    "        super(BertLayer, self).build(input_shape)\n",
    "\n",
    "    def call(self, inputs):\n",
    "        inputs = [K.cast(x, dtype=\"int32\") for x in inputs]\n",
    "        input_ids, input_mask, segment_ids = inputs\n",
    "        bert_inputs = dict(\n",
    "            input_ids=input_ids, input_mask=input_mask, segment_ids=segment_ids\n",
    "        )\n",
    "        result = self.bert(inputs=bert_inputs, signature=\"tokens\", as_dict=True)[\n",
    "            \"pooled_output\"\n",
    "        ]\n",
    "        return result\n",
    "\n",
    "    def compute_output_shape(self, input_shape):\n",
    "        return (input_shape[0], self.output_size)"
   ]
  },
  {
   "cell_type": "code",
   "execution_count": 0,
   "metadata": {
    "colab": {},
    "colab_type": "code",
    "id": "zR-MG5ZZl8h6"
   },
   "outputs": [],
   "source": [
    "def initialize_vars(sess):\n",
    "    sess = tf.Session(config=tf.ConfigProto(allow_soft_placement=True, log_device_placement=True)) #command to run codeon multiple gpu\n",
    "    sess.run(tf.local_variables_initializer())\n",
    "    sess.run(tf.global_variables_initializer())\n",
    "    sess.run(tf.tables_initializer())\n",
    "    K.set_session(sess)"
   ]
  },
  {
   "cell_type": "code",
   "execution_count": 0,
   "metadata": {
    "colab": {},
    "colab_type": "code",
    "id": "jAd7z3FPl8h8"
   },
   "outputs": [],
   "source": [
    "def get_news_model(params):\n",
    "    \n",
    "    K.clear_session()\n",
    "    \n",
    "    with tf.device('/gpu:0'):\n",
    "        bert_base = BertLayer()\n",
    "        bert_base.trainable= params['bert_trainable']\n",
    "\n",
    "        in_id = tf.keras.layers.Input(shape=(max_seq_length,), name=\"input_ids\")\n",
    "        in_mask = tf.keras.layers.Input(shape=(max_seq_length,), name=\"input_masks\")\n",
    "        in_segment = tf.keras.layers.Input(shape=(max_seq_length,), name=\"segment_ids\")\n",
    "        bert_inputs = [in_id, in_mask, in_segment]\n",
    "        bert_output = bert_base(bert_inputs)\n",
    "\n",
    "        if params['text_no_hidden_layer']>0:\n",
    "            for i in range(params['text_no_hidden_layer']):\n",
    "                bert_output = tf.keras.layers.Dense(params['text_hidden_neurons'], activation='relu')(bert_output)\n",
    "                bert_output = tf.keras.layers.Dropout(params['dropout'])(bert_output)\n",
    "\n",
    "        text_repr = tf.keras.layers.Dense(params['repr_size'], activation='relu')(bert_output)\n",
    "\n",
    "        #image model\n",
    "        conv_base = tf.keras.applications.VGG19(weights='imagenet', include_top=True, input_shape=(224,224,3))\n",
    "        conv_base.trainable=False\n",
    "\n",
    "        input_image = tf.keras.layers.Input(shape=(224,224,3))\n",
    "        base_output = conv_base(input_image)\n",
    "        flat = tf.keras.layers.Flatten()(base_output)\n",
    "\n",
    "        if params['vis_no_hidden_layer']>0:\n",
    "            for i in range(params['vis_no_hidden_layer']):\n",
    "                flat = tf.keras.layers.Dense(params['vis_hidden_neurons'], activation='relu')(flat)\n",
    "                flat = tf.keras.layers.Dropout(params['dropout'])(flat)\n",
    "\n",
    "        visual_repr = tf.keras.layers.Dense(params['repr_size'],activation='relu')(flat)\n",
    "\n",
    "\n",
    "        #classifier\n",
    "        combine_repr = tf.keras.layers.concatenate([text_repr, visual_repr])\n",
    "        com_drop=tf.keras.layers.Dropout(params['dropout'])(combine_repr)\n",
    "\n",
    "        if params['final_no_hidden_layer']>0:\n",
    "            for i in range(params['final_no_hidden_layer']):\n",
    "                com_drop = tf.keras.layers.Dense(params['final_hidden_neurons'], activation='relu')(com_drop)\n",
    "                com_drop=tf.keras.layers.Dropout(params['dropout'])(com_drop)\n",
    "\n",
    "        prediction = tf.keras.layers.Dense(1,activation='sigmoid')(com_drop)\n",
    "\n",
    "        model = tf.keras.models.Model(inputs=[in_id,in_mask,in_segment,input_image], outputs=prediction)\n",
    "\n",
    "    #model = tf.keras.utils.multi_gpu_model(model,gpus=no_of_gpu)\n",
    "    \n",
    "#     if params['optimizer'] == 'adam':\n",
    "#         opt = tf.keras.optimizers.Adam(lr=0.0005)\n",
    "#     else:\n",
    "#         opt = tf.keras.optimizers.RMSprop(lr=0.00005)\n",
    "        \n",
    "    model.compile(loss='binary_crossentropy', optimizer=params['optimizer'](), metrics=['accuracy'])\n",
    "    initialize_vars(sess)\n",
    "    \n",
    "    \n",
    "    return model"
   ]
  },
  {
   "cell_type": "code",
   "execution_count": 0,
   "metadata": {
    "colab": {},
    "colab_type": "code",
    "id": "KAmumIfxiuRZ"
   },
   "outputs": [],
   "source": [
    "def get_news_model(params):\n",
    "    \n",
    "    K.clear_session()\n",
    "    \n",
    "    with tf.device('/gpu:0'):\n",
    "        bert_base = BertLayer()\n",
    "        bert_base.trainable= params['bert_trainable']\n",
    "\n",
    "        in_id = tf.keras.layers.Input(shape=(max_seq_length,), name=\"input_ids\")\n",
    "        in_mask = tf.keras.layers.Input(shape=(max_seq_length,), name=\"input_masks\")\n",
    "        in_segment = tf.keras.layers.Input(shape=(max_seq_length,), name=\"segment_ids\")\n",
    "        bert_inputs = [in_id, in_mask, in_segment]\n",
    "        bert_output = bert_base(bert_inputs)\n",
    "\n",
    "        if params['text_no_hidden_layer']>0:\n",
    "            for i in range(params['text_no_hidden_layer']):\n",
    "                bert_output = tf.keras.layers.Dense(params['text_hidden_neurons'], activation='relu')(bert_output)\n",
    "                bert_output = tf.keras.layers.Dropout(params['dropout'])(bert_output)\n",
    "\n",
    "        text_repr = tf.keras.layers.Dense(params['repr_size'], activation='relu')(bert_output)\n",
    "\n",
    "        #image model\n",
    "        input_image = tf.keras.layers.Input(shape=(1152))\n",
    "        flat = tf.keras.layers.Dense(768, activation='relu')(input_image)\n",
    "\n",
    "        visual_repr = tf.keras.layers.Dense(params['repr_size'],activation='relu')(flat)\n",
    "\n",
    "\n",
    "        #classifier\n",
    "        combine_repr = tf.keras.layers.concatenate([text_repr, visual_repr])\n",
    "        com_drop=tf.keras.layers.Dropout(params['dropout'])(combine_repr)\n",
    "\n",
    "        if params['final_no_hidden_layer']>0:\n",
    "            for i in range(params['final_no_hidden_layer']):\n",
    "                com_drop = tf.keras.layers.Dense(params['final_hidden_neurons'], activation='relu')(com_drop)\n",
    "                com_drop=tf.keras.layers.Dropout(params['dropout'])(com_drop)\n",
    "\n",
    "        prediction = tf.keras.layers.Dense(1,activation='sigmoid')(com_drop)\n",
    "\n",
    "        model = tf.keras.models.Model(inputs=[in_id,in_mask,in_segment,input_image], outputs=prediction)\n",
    "\n",
    "    #model = tf.keras.utils.multi_gpu_model(model,gpus=no_of_gpu)\n",
    "    \n",
    "#     if params['optimizer'] == 'adam':\n",
    "#         opt = tf.keras.optimizers.Adam(lr=0.0005)\n",
    "#     else:\n",
    "#         opt = tf.keras.optimizers.RMSprop(lr=0.00005)\n",
    "        \n",
    "    model.compile(loss='binary_crossentropy', optimizer=params['optimizer'](), metrics=['accuracy'])\n",
    "    initialize_vars(sess)\n",
    "    \n",
    "    \n",
    "    return model"
   ]
  },
  {
   "cell_type": "code",
   "execution_count": 0,
   "metadata": {
    "colab": {},
    "colab_type": "code",
    "id": "JAYSdb6rl8h-"
   },
   "outputs": [],
   "source": [
    "params_data = {\n",
    "    'bert_trainable' :True,\n",
    "    'text_no_hidden_layer':1,\n",
    "    'text_hidden_neurons':768,\n",
    "    'dropout':0.4,\n",
    "    'repr_size':128,\n",
    "    'vis_no_hidden_layer':1,\n",
    "    'vis_hidden_neurons':2742,\n",
    "    'final_no_hidden_layer':1,\n",
    "    'final_hidden_neurons':35,\n",
    "    'optimizer':tf.keras.optimizers.Adam\n",
    "}"
   ]
  },
  {
   "cell_type": "code",
   "execution_count": 13,
   "metadata": {
    "colab": {
     "base_uri": "https://localhost:8080/",
     "height": 139
    },
    "colab_type": "code",
    "executionInfo": {
     "elapsed": 57021,
     "status": "ok",
     "timestamp": 1587217864445,
     "user": {
      "displayName": "Donald Hwang",
      "photoUrl": "https://lh3.googleusercontent.com/a-/AOh14Ggt2dEXAAxTJRTWgMcg8o9qw4QwIywNVNqwOSIQ=s64",
      "userId": "01756396387495312220"
     },
     "user_tz": -480
    },
    "id": "_9cwKoMyl8iA",
    "outputId": "655428e5-27c7-4b08-8e13-dc059ed254d7",
    "scrolled": true
   },
   "outputs": [
    {
     "name": "stdout",
     "output_type": "stream",
     "text": [
      "WARNING: Entity <bound method BertLayer.call of <__main__.BertLayer object at 0x7f78045857f0>> could not be transformed and will be executed as-is. Please report this to the AutoGraph team. When filing the bug, set the verbosity to 10 (on Linux, `export AUTOGRAPH_VERBOSITY=10`) and attach the full output. Cause: module 'gast' has no attribute 'Num'\n",
      "Device mapping:\n",
      "/job:localhost/replica:0/task:0/device:XLA_CPU:0 -> device: XLA_CPU device\n",
      "/job:localhost/replica:0/task:0/device:XLA_GPU:0 -> device: XLA_GPU device\n",
      "/job:localhost/replica:0/task:0/device:GPU:0 -> device: 0, name: Tesla P100-PCIE-16GB, pci bus id: 0000:00:04.0, compute capability: 6.0\n",
      "\n"
     ]
    }
   ],
   "source": [
    "model=get_news_model(params_data)"
   ]
  },
  {
   "cell_type": "code",
   "execution_count": 0,
   "metadata": {
    "colab": {
     "base_uri": "https://localhost:8080/",
     "height": 374
    },
    "colab_type": "code",
    "executionInfo": {
     "elapsed": 1935632,
     "status": "ok",
     "timestamp": 1584521293931,
     "user": {
      "displayName": "Donald Hwang",
      "photoUrl": "https://lh3.googleusercontent.com/a-/AOh14Ggt2dEXAAxTJRTWgMcg8o9qw4QwIywNVNqwOSIQ=s64",
      "userId": "01756396387495312220"
     },
     "user_tz": -480
    },
    "id": "l8_OXZSkl8iJ",
    "outputId": "7e8fb16d-62b7-4b20-8d69-7a1d30c2d25d",
    "scrolled": true
   },
   "outputs": [
    {
     "name": "stdout",
     "output_type": "stream",
     "text": [
      "Train on 10291 samples, validate on 5070 samples\n",
      "Epoch 1/10\n",
      "10291/10291 [==============================] - 192s 19ms/sample - loss: 0.3979 - acc: 0.8064 - val_loss: 0.2043 - val_acc: 0.9034\n",
      "Epoch 2/10\n",
      "10291/10291 [==============================] - 181s 18ms/sample - loss: 0.2397 - acc: 0.8987 - val_loss: 0.1802 - val_acc: 0.9369\n",
      "Epoch 3/10\n",
      "10291/10291 [==============================] - 181s 18ms/sample - loss: 0.1809 - acc: 0.9357 - val_loss: 0.1188 - val_acc: 0.9588\n",
      "Epoch 4/10\n",
      "10291/10291 [==============================] - 181s 18ms/sample - loss: 0.1330 - acc: 0.9530 - val_loss: 0.1604 - val_acc: 0.9292\n",
      "Epoch 5/10\n",
      "10291/10291 [==============================] - 181s 18ms/sample - loss: 0.1114 - acc: 0.9630 - val_loss: 0.1631 - val_acc: 0.9473\n",
      "Epoch 6/10\n",
      "10291/10291 [==============================] - 181s 18ms/sample - loss: 0.0831 - acc: 0.9703 - val_loss: 0.1294 - val_acc: 0.9550\n",
      "Epoch 7/10\n",
      "10291/10291 [==============================] - 181s 18ms/sample - loss: 0.0837 - acc: 0.9695 - val_loss: 0.1087 - val_acc: 0.9641\n",
      "Epoch 8/10\n",
      "10291/10291 [==============================] - 181s 18ms/sample - loss: 0.0510 - acc: 0.9823 - val_loss: 0.2098 - val_acc: 0.9637\n",
      "Epoch 9/10\n",
      "10291/10291 [==============================] - 181s 18ms/sample - loss: 0.0469 - acc: 0.9849 - val_loss: 0.1088 - val_acc: 0.9716\n",
      "Epoch 10/10\n",
      "10291/10291 [==============================] - 181s 18ms/sample - loss: 0.0362 - acc: 0.9919 - val_loss: 0.1087 - val_acc: 0.9694\n"
     ]
    }
   ],
   "source": [
    "out = model.fit([train_input_ids, train_input_masks, train_segment_ids,train_imagesX], trainY,\n",
    "                    batch_size=64,\n",
    "                    epochs=10,\n",
    "                    verbose=1,\n",
    "                    shuffle=True,\n",
    "                    validation_split=0.33)"
   ]
  },
  {
   "cell_type": "code",
   "execution_count": 14,
   "metadata": {
    "colab": {
     "base_uri": "https://localhost:8080/",
     "height": 374
    },
    "colab_type": "code",
    "executionInfo": {
     "elapsed": 157186,
     "status": "ok",
     "timestamp": 1587221809251,
     "user": {
      "displayName": "Donald Hwang",
      "photoUrl": "https://lh3.googleusercontent.com/a-/AOh14Ggt2dEXAAxTJRTWgMcg8o9qw4QwIywNVNqwOSIQ=s64",
      "userId": "01756396387495312220"
     },
     "user_tz": -480
    },
    "id": "EU9aLCvijj9D",
    "outputId": "ab26bd77-5273-48a6-b0f5-4decacf737ba"
   },
   "outputs": [
    {
     "name": "stdout",
     "output_type": "stream",
     "text": [
      "Train on 10288 samples, validate on 5068 samples\n",
      "Epoch 1/10\n",
      "10288/10288 [==============================] - 396s 39ms/sample - loss: 0.4903 - acc: 0.7954 - val_loss: 0.2179 - val_acc: 0.9181\n",
      "Epoch 2/10\n",
      "10288/10288 [==============================] - 392s 38ms/sample - loss: 0.2098 - acc: 0.9181 - val_loss: 0.1592 - val_acc: 0.9349\n",
      "Epoch 3/10\n",
      "10288/10288 [==============================] - 392s 38ms/sample - loss: 0.1496 - acc: 0.9431 - val_loss: 0.1310 - val_acc: 0.9453\n",
      "Epoch 4/10\n",
      "10288/10288 [==============================] - 392s 38ms/sample - loss: 0.1077 - acc: 0.9617 - val_loss: 0.1341 - val_acc: 0.9481\n",
      "Epoch 5/10\n",
      "10288/10288 [==============================] - 392s 38ms/sample - loss: 0.1262 - acc: 0.9603 - val_loss: 0.1848 - val_acc: 0.9183\n",
      "Epoch 6/10\n",
      "10288/10288 [==============================] - 392s 38ms/sample - loss: 0.0792 - acc: 0.9741 - val_loss: 0.1388 - val_acc: 0.9601\n",
      "Epoch 7/10\n",
      "10288/10288 [==============================] - 392s 38ms/sample - loss: 0.0673 - acc: 0.9792 - val_loss: 0.1143 - val_acc: 0.9592\n",
      "Epoch 8/10\n",
      "10288/10288 [==============================] - 392s 38ms/sample - loss: 0.0640 - acc: 0.9805 - val_loss: 0.1051 - val_acc: 0.9594\n",
      "Epoch 9/10\n",
      "10288/10288 [==============================] - 392s 38ms/sample - loss: 0.0434 - acc: 0.9867 - val_loss: 0.1935 - val_acc: 0.9548\n",
      "Epoch 10/10\n",
      "10288/10288 [==============================] - 392s 38ms/sample - loss: 0.0370 - acc: 0.9887 - val_loss: 0.1620 - val_acc: 0.9601\n"
     ]
    }
   ],
   "source": [
    "out = model.fit([train_input_ids, train_input_masks, train_segment_ids,visual_train], trainY,\n",
    "                    batch_size=64,\n",
    "                    epochs=10,\n",
    "                    verbose=1,\n",
    "                    shuffle=True,\n",
    "                    validation_split=0.33)"
   ]
  },
  {
   "cell_type": "code",
   "execution_count": 0,
   "metadata": {
    "colab": {},
    "colab_type": "code",
    "id": "v0uGBZRsl8iL"
   },
   "outputs": [],
   "source": [
    "model.save('MMFFND-Spotfake-Finetune.h5')"
   ]
  },
  {
   "cell_type": "code",
   "execution_count": 0,
   "metadata": {
    "colab": {},
    "colab_type": "code",
    "id": "rMFQINHKl8iM"
   },
   "outputs": [],
   "source": [
    "#model.load('MMFFND-Spotfake-Finetune.h5')"
   ]
  },
  {
   "cell_type": "code",
   "execution_count": 0,
   "metadata": {
    "colab": {},
    "colab_type": "code",
    "id": "KCqhx5m4l8iP"
   },
   "outputs": [],
   "source": [
    "test_predict = model.predict([test_input_ids, test_input_masks, test_segment_ids,visual_test])\n",
    "test_predict = [1 if i>=0.5 else 0 for i in test_predict]"
   ]
  },
  {
   "cell_type": "code",
   "execution_count": 0,
   "metadata": {
    "colab": {},
    "colab_type": "code",
    "id": "bJFbtMX6l8iS"
   },
   "outputs": [],
   "source": [
    "from sklearn.metrics import accuracy_score,f1_score,precision_score,recall_score"
   ]
  },
  {
   "cell_type": "code",
   "execution_count": 0,
   "metadata": {
    "colab": {
     "base_uri": "https://localhost:8080/",
     "height": 85
    },
    "colab_type": "code",
    "executionInfo": {
     "elapsed": 43361,
     "status": "ok",
     "timestamp": 1584522798794,
     "user": {
      "displayName": "Donald Hwang",
      "photoUrl": "https://lh3.googleusercontent.com/a-/AOh14Ggt2dEXAAxTJRTWgMcg8o9qw4QwIywNVNqwOSIQ=s64",
      "userId": "01756396387495312220"
     },
     "user_tz": -480
    },
    "id": "FooNbHIll8iV",
    "outputId": "4ad78661-6c3c-4216-8a4e-49f606b73880"
   },
   "outputs": [
    {
     "name": "stdout",
     "output_type": "stream",
     "text": [
      "Accuracy == 0.9708409268419682\n",
      "F1 == [0.9707113  0.97096941]\n",
      "Precision == [0.95966908 0.98217095]\n",
      "Recall == [0.98201058 0.9600205 ]\n"
     ]
    }
   ],
   "source": [
    "print(f'Accuracy == {accuracy_score(testY,test_predict)}')\n",
    "print(f'F1 == {f1_score(testY,test_predict,average=None)}')\n",
    "print(f'Precision == {precision_score(testY,test_predict,average=None)}')\n",
    "print(f'Recall == {recall_score(testY,test_predict,average=None)}')"
   ]
  },
  {
   "cell_type": "code",
   "execution_count": 17,
   "metadata": {
    "colab": {
     "base_uri": "https://localhost:8080/",
     "height": 85
    },
    "colab_type": "code",
    "executionInfo": {
     "elapsed": 1525,
     "status": "ok",
     "timestamp": 1587222176968,
     "user": {
      "displayName": "Donald Hwang",
      "photoUrl": "https://lh3.googleusercontent.com/a-/AOh14Ggt2dEXAAxTJRTWgMcg8o9qw4QwIywNVNqwOSIQ=s64",
      "userId": "01756396387495312220"
     },
     "user_tz": -480
    },
    "id": "htCvosrijq4v",
    "outputId": "d2efbe4f-43cf-4084-d154-57a7a71ad671"
   },
   "outputs": [
    {
     "name": "stdout",
     "output_type": "stream",
     "text": [
      "Accuracy == 0.9585829643136233\n",
      "F1 == [0.95554934 0.96122897]\n",
      "Precision == [0.9804934 0.9403626]\n",
      "Recall == [0.93184297 0.98304239]\n"
     ]
    }
   ],
   "source": [
    "print(f'Accuracy == {accuracy_score(testY,test_predict)}')\n",
    "print(f'F1 == {f1_score(testY,test_predict,average=None)}')\n",
    "print(f'Precision == {precision_score(testY,test_predict,average=None)}')\n",
    "print(f'Recall == {recall_score(testY,test_predict,average=None)}')"
   ]
  },
  {
   "cell_type": "code",
   "execution_count": 0,
   "metadata": {
    "colab": {},
    "colab_type": "code",
    "id": "CHayhrXml8iX"
   },
   "outputs": [],
   "source": [
    "fault = []\n",
    "for i in range(len(test_predict)):\n",
    "    if test_predict[i] != testY[i]:\n",
    "        fault.append(i)"
   ]
  },
  {
   "cell_type": "code",
   "execution_count": 0,
   "metadata": {
    "colab": {
     "base_uri": "https://localhost:8080/",
     "height": 34
    },
    "colab_type": "code",
    "executionInfo": {
     "elapsed": 41231,
     "status": "ok",
     "timestamp": 1584522798795,
     "user": {
      "displayName": "Donald Hwang",
      "photoUrl": "https://lh3.googleusercontent.com/a-/AOh14Ggt2dEXAAxTJRTWgMcg8o9qw4QwIywNVNqwOSIQ=s64",
      "userId": "01756396387495312220"
     },
     "user_tz": -480
    },
    "id": "Yill6nA1l8iZ",
    "outputId": "5b227868-0de8-4c87-ec52-9e2e44ef28af"
   },
   "outputs": [
    {
     "data": {
      "text/plain": [
       "112"
      ]
     },
     "execution_count": 30,
     "metadata": {
      "tags": []
     },
     "output_type": "execute_result"
    }
   ],
   "source": [
    "len(fault)"
   ]
  },
  {
   "cell_type": "code",
   "execution_count": 0,
   "metadata": {
    "colab": {
     "base_uri": "https://localhost:8080/",
     "height": 34
    },
    "colab_type": "code",
    "executionInfo": {
     "elapsed": 40289,
     "status": "ok",
     "timestamp": 1584522798796,
     "user": {
      "displayName": "Donald Hwang",
      "photoUrl": "https://lh3.googleusercontent.com/a-/AOh14Ggt2dEXAAxTJRTWgMcg8o9qw4QwIywNVNqwOSIQ=s64",
      "userId": "01756396387495312220"
     },
     "user_tz": -480
    },
    "id": "8ul_uJX8l8ib",
    "outputId": "3a12c8e1-c65c-4df0-9402-d4bbd44515b7"
   },
   "outputs": [
    {
     "data": {
      "text/plain": [
       "array([0])"
      ]
     },
     "execution_count": 31,
     "metadata": {
      "tags": []
     },
     "output_type": "execute_result"
    }
   ],
   "source": [
    "testY[1]"
   ]
  },
  {
   "cell_type": "code",
   "execution_count": 0,
   "metadata": {
    "colab": {
     "base_uri": "https://localhost:8080/",
     "height": 1000
    },
    "colab_type": "code",
    "executionInfo": {
     "elapsed": 39446,
     "status": "ok",
     "timestamp": 1584522798796,
     "user": {
      "displayName": "Donald Hwang",
      "photoUrl": "https://lh3.googleusercontent.com/a-/AOh14Ggt2dEXAAxTJRTWgMcg8o9qw4QwIywNVNqwOSIQ=s64",
      "userId": "01756396387495312220"
     },
     "user_tz": -480
    },
    "id": "2GqvQO-ul8ie",
    "outputId": "886ed02d-b0f8-468c-ca75-00daed64481c"
   },
   "outputs": [
    {
     "name": "stdout",
     "output_type": "stream",
     "text": [
      "【袖珍小猴走红网络，高智慧宠物“不好养”】昨天，一只宠物猴的照片风靡网络。据了解，这种猴名为“石猴”宠物猴，必须在合法商贩处购买。但石猴并不易养，有网友表示：石猴性格太过活泼，“很皮，模仿力很高，有的时候会自己打开煤气阀门，拿着打火机玩，很危险！”敬请关注@全球震惊百分百  predict: 0, truth: 1\n",
      "\n",
      "【男子和女友ML时JJ自燃烧焦了】2人均是河南商丘当地一所学校的学生，女孩今年18。女孩透露爱爱前男友喜欢喝白酒，这次也是，正要到高潮的时候她突然觉得下体越来越热，而男友面部表情复杂说不出话，才发现有点不对。医生证实，男子JJ基本报废，女孩下体已被灼伤，目前起火原因不明。From陕西新闻网  predict: 0, truth: 1\n",
      "\n",
      "方舟子是个什么玩意儿？  predict: 1, truth: 0\n",
      "\n",
      "7月16日早上七点半左右在雁塔区西安外事学院东赢园雅筑西南坐出租车到陕西省人民医院急救中心门前下车，由于本人粗心大意将自己的紫色钱包落在出租车上，钱包内没多少钱，主要有自己好多证件，证件姓名晁娜，证件尾号7624望那位好心人看见能归还。谢谢@漂西安@漂西安@西安直播@西安城事儿@西安直播  predict: 1, truth: 0\n",
      "\n",
      "别说我没介绍好工作给你们  predict: 0, truth: 1\n",
      "\n",
      "【多地PM指数频临爆表南京连续污染8天】从1月5日开始，南京空气质量连续污染，昨天已是第八天。昨晚帝都网友@米娜33发微博说：今儿北京毒气爆表，我家水龙头放出来的水成这样儿了，一盆毒死你！#我家水龙头会喷鹤顶红#。网友评论：帝都的亲还是把自来水给戒了吧！！！  predict: 0, truth: 1\n",
      "\n",
      "【不必看的N类微信】1.是中国人就转！2.赶紧告诉家人！3.原来几十年都吃错了。4.中央已经震惊！5.少妇受不住了。6.扫码即领取。7.转发十个人，功德无量。8.看人家啥啥人怎样教育孩子。9.珍藏版国军抗战英名录。10.我军在南海击沉美国航母。11.国人愤怒了。12.看完就哭了……|黄山·排云...  predict: 1, truth: 0\n",
      "\n",
      "//分享网易新闻:《泸州中学生坠亡事件续:警方与家属对话录音曝光》泸州中学生坠亡事件续:警方与家属对话录音曝光@网易新闻客户端#网易新闻#  predict: 0, truth: 1\n",
      "\n",
      "宁波妇幼母携四月儿坠楼亡缘起无力支付高昂医疗费|陈凌峰微博消息9月10日下午1点多，宁波妇幼医院一妇女因负担不起医治孩子的高昂医药费，怀抱仅4个月大的宝宝在住院楼跳楼自杀，经抢救无效死亡。医院  predict: 0, truth: 1\n",
      "\n",
      "#南昌城事#德兴出现粉红色的天空！（吃喝玩乐在德兴）  predict: 1, truth: 0\n",
      "\n",
      "#PPS看新闻##四川雅安地震#【一只害怕的大熊猫】感动又被萌翻，地震发生时，一只害怕的熊猫死死地抱住警察叔叔的腿〜via@数据大本营  predict: 0, truth: 1\n",
      "\n",
      "网评员也是高危职业啊，珍爱生命，远离五毛。  predict: 0, truth: 1\n",
      "\n",
      "紧急通知，第十六号台风“乌鸦”现在在菲律宾东部海面生成，中心风力达到十八级，预计后天将会再次影响海南，海口到广东沿海一线登陆，海鸥走了，乌鸦又来，这都不让人喘口气的！  predict: 0, truth: 1\n",
      "\n",
      "#社会新看点#4月13日山东淄博市淄川区吉祥路一门店爆炸，致两人重伤。金箍棒看天...  predict: 1, truth: 0\n",
      "\n",
      "#中国女子在澳闯红灯被电晕#澳洲一中国女子过马路闯红灯，警察将其拦下欲处罚，女子撒泼，并拿出刀，无视警察开始打电话。警察在连续三次严重警告无效后，果断开电击枪将其击晕。还能说什么呢？.  predict: 0, truth: 1\n",
      "\n",
      "SEAN-MB：陪父亲去上海解放军455医院（上海市长宁区淮海西路338号）看病，张建华医生治疗态度恶劣，声称不配他的高价中药（甲亢灵10盒卖1千多），就不给配药治疗，被我们拒绝之后恼羞成怒将桌上所有东西砸向我，如此丧尽医德的医生，不替他宣传一下对不起人民。“另附照片一张”.  predict: 0, truth: 1\n",
      "\n",
      "这是多么不道德的行为。我们从我们的客户那里得到关于这个北京的假商店的信息。我们将采取行动反对这种情况，如果我们在中国开设自己的旗舰店，我们将正式宣布。我们真的希望不会有任何受害者，因为这个假商店。  predict: 1, truth: 0\n",
      "\n",
      "【美女炒房赔5000万，光身子跳楼自杀（现场图）】知情人士告诉《第一财经（微博)日报》记者，位于瓯海大道附近的一个楼盘，2009年开盘时曾以3万多元/平方米的价格创下了当时温州楼市的房价新高，随后的一年里被爆炒到6万多元/平方米。这个价格现在被“腰斩”。...  predict: 0, truth: 1\n",
      "\n",
      "让历史照进现实！  predict: 0, truth: 1\n",
      "\n",
      "近日联合国公布了本年度全球“国民素质、道德水平”排名，共综合文化素养、全民教育、经济条件、身体素质等共118项指标，其排名如下：1.日本，2.美国，3.法国，4.荷兰，5.瑞士，6.加拿大，7.澳大利亚，8.德国，9.俄罗斯，10.新西兰..…164.朝鲜，165.刚果，166.阿富汗，167.中国，168.印度。  predict: 0, truth: 1\n",
      "\n",
      "【世界上辐射最高的地方，原来是吸烟者的肺】世界上辐射最强的地方，不是切尔诺贝利的核爆现场，而是……吸烟者的肺这并不是危言耸听，无论主动吸烟还是被动吸烟，它的危害都比你想象得更大。5月31日是第31个#世界无烟日#，权威专家为你全面解读烟草“罪恶”的真面目。@生命时报  predict: 1, truth: 0\n",
      "\n",
      "#张朝阳吸毒被抓#周三见分晓，监狱风云这下有了投资人和播放平台了  predict: 0, truth: 1\n",
      "\n",
      "#奥斯卡#之后，小李的推特~哈哈哈哈哈哈哈~（by唐僧僧僧僧僧）  predict: 0, truth: 1\n",
      "\n",
      "江苏省贪官以权谋私，套路百姓啊电话都打不通，让人怎么诉说怎么控诉，然而还能发来回访信息，请问你要脸吗超级话题[超话]##将反腐进行到底#@吐槽社@陳嘉上Gordon@人民网@吐槽记者@上海向华@名师中国@新闻速报@令狐晚报V@法路心语6868@闫忠文-@天中捕快...  predict: 1, truth: 0\n",
      "\n",
      "近期，围绕着云南楚雄彝族自治州双柏县鄂家镇要不要利用传统的“摸奶节”开发旅游，在云南是热火朝天。赞同者认为，为了发展和促进旅游事业，大打“摸奶节”品牌，把“摸奶节”品牌宣传出去，利多弊少。异议者认为，“摸奶节”伤风败俗，不能为了旅游而忽视了文明，更不能由政府出面宣传。  predict: 0, truth: 1\n",
      "\n",
      "分享网易新闻：「泸州中学生坠亡事件续:警方与家属对话录音曝光,精彩弹幕，尽在客户端这是两天之前泸县警方、教育局跟坠楼者父」  predict: 0, truth: 1\n",
      "\n",
      "【最狠最牛逼：保利出动坦克强拆？】4-19昆明人民西路旧改拆迁工地，出现一辆63A式水陆两栖坦克。据悉，拥有军方背景的保利集团，在2010开始介入昆明城中村改造后，出现了许多烂尾工程，很多拆迁户签定新房合同到期后却拿不到房子。为防止拆迁户搞事，保利弄来坦克威吓！  predict: 0, truth: 1\n",
      "\n",
      "#周一见#大家一起来找茬：高晓松酒驾PS文章劈腿要相信自己的眼睛.@文章同學@马伊琍  predict: 0, truth: 1\n",
      "\n",
      "雾炮车;用力过猛;宁夏一环保局大楼被喷成冰雕  predict: 1, truth: 0\n",
      "\n",
      "每年都有学校暴力，真不想让孩子上学了，这就是法制社会吗，简直是狗屁吧『太【气愤了】校园暴力再次出现，四川泸州太伏中学一学生被~~~-新闻频道-手机搜狐』太【气愤了】校园暴力再次出现，四川泸州太伏...  predict: 0, truth: 1\n",
      "\n",
      "Shit..Tmd的日本鬼子。  predict: 0, truth: 1\n",
      "\n",
      "武汉领导真幽默——@乐活武汉：就在二七路，火速围观！  predict: 0, truth: 1\n",
      "\n",
      "香港大埔雙層巴士車禍已造成19死66傷[蠟燭]為救治傷者市民到各捐血站獻血所排起的人龍。這才是真正的香港精神  predict: 1, truth: 0\n",
      "\n",
      "【#张朝阳吸毒被抓#】继房祖名和柯震东之后，昨晚，又一位IT大佬在北京开房吸毒被抓。今日，经媒体证实，这位大佬是搜狐CE张朝阳。  predict: 0, truth: 1\n",
      "\n",
      "刚学了个知识，和大家分享一下：如何判断你的牙膏是否健康。在每个牙膏袋的尾部都有个色块，绿色表示牙膏成份纯天然，蓝色表示天然且含药物，红色表示含化学成份，黑色表示纯化学成份合成。建议大家使用绿色和蓝色的，快看看你家的牙膏健康吗?  predict: 0, truth: 1\n",
      "\n",
      "历史访客开始内测？  predict: 0, truth: 1\n",
      "\n",
      "“突发！网曝男星乔任梁与某导演SM过度窒息死亡#乔任梁死亡#”#明星那点事#  predict: 0, truth: 1\n",
      "\n",
      "【紧急扩散：3月5日生产的;菠萝味美汁源果粒奶优;或含问题奶粉】新西兰;含肉毒杆菌奶粉;流入中国。可口可乐表示，25公斤问题原料奶粉，已于3月5日生产了美`汁源果粒奶优菠萝味饮料，共19000余箱，已运往云南、广西和广东。可口可乐已对其召回。提醒大家注意生产日期，扩散周知！  predict: 0, truth: 1\n",
      "\n",
      "#帝吧出征#广东顺德龙卷风据网友，今日下午广东顺德出现龙卷风。。现场视频：更多龙卷风现场视频戳：  predict: 0, truth: 1\n",
      "\n",
      "网友爆料：刚刚锦州凌河夜市云飞街路口附近发生煤气罐爆炸事故，具体原因及损失情况不详，从视频上看，好像有人受伤……#锦州身边事  predict: 1, truth: 0\n",
      "\n",
      "【一网友托运狗狗的经历…】@HUST_维维豆奶：我托运的金毛犬在天河机场被打成重伤，身上千疮百孔，希望东航和天河机场给我一个合理的解释！不要再互相推脱推卸责任！@北京人不知道的北京事儿  predict: 1, truth: 0\n",
      "\n",
      "墙外恶心人的家伙真不少，右翼真的是自带智障  predict: 1, truth: 0\n",
      "\n",
      "这“山竹”有点瘆人;搞笑视频;微博搞笑排行榜  predict: 0, truth: 1\n",
      "\n",
      "父亲去上海解放军455医院（上海市长宁区淮海西路338号）看病，张建华医生治疗态度恶劣，声称不配他的高价中药（甲亢灵10盒卖1千多），就不给配药治疗，被我们拒绝之后恼羞成怒将桌上所有东西砸向我，如此丧尽医德的医生，不替他宣传一下对不起人民。“另附照片一张”viaSEAN-MB  predict: 0, truth: 1\n",
      "\n",
      "奉劝电驴一族骑电动车的时候还是不要戴耳机了……外卖小哥撞车被耳机线割喉.....希望他能没事🙏  predict: 0, truth: 1\n",
      "\n",
      "蓄谋已久的复旦投毒。林某本想杀姜成，误杀了黄洋。林某的百度id--诛姜成，及在百度上关于毒物毒性的提问  predict: 0, truth: 1\n",
      "\n",
      "爱尔兰瑞尔航空公司昨天公布的新LG。。。有人可以解释一下伐。。。[bed凌乱]（图@辛梓UK_歆）  predict: 0, truth: 1\n",
      "\n",
      "#南京唐僧肉#你们看看这个合法不  predict: 1, truth: 0\n",
      "\n",
      "「西方賊」的新目標屈穎妍來自中國駐英大使館的消息：24小時內，已有兩名留學英國的中國學生失聯，一個是倫敦國王學院的博士生，另一是帝國理工學院的本科生。前者曾發出被綁架求救短訊，其屍體剛剛被倫敦警方發現。印象中，這類客死異鄉個案近年似乎愈來愈頻密。去年六月，赴美國伊利諾伊大學交流的26歲中國女學生章瑩穎忽然失了蹤，最後發現遭同校物理系博士生綁架殺死。同年七月，美國猶他大學23歲中國留學生郭晨偉，於名勝紅丘峽谷被搶車賊開槍擊斃。前年年尾，就讀意大利羅馬美術學院的20歲中國女留學生張瑤，在羅馬郊區遭洗劫後遇害……過去偶有這類留學生悲劇，原因大多是情殺或種族問題，但近年所見，許多命案都緣起綁架或搶劫，因為「中國人」三個字，在今日西方人眼中，已是「富豪」代名詞。大女兒在英國念書，有次周末在小鎮廣場等朋友，忽然有白人青年跟她說：「小姐，我錢包丟失了，我不住此區，能不能給我十鎊搭火車回家？」十來歲的女兒初到貴境，不虞有詐，掏出十鎊，那青年說句謝，風一樣逃去。後來女兒跟同學說起，原來幾乎每個中國留學生都在那廣場有過相同遭遇，連她的越南同學也被騙徒騙過。白人同學倒未有過這經歷，他們說：「因為我們錢包裏根本不會有十鎊現金。」中國人在西方賊眼中是「有錢」象徵，更是下手對象，騙錢事小，像那幾位女留學生那樣成為綁匪目標才最令人心寒。當今日仍有香港人言之鑿鑿地傳那些「別在內地搭火車，醒來時你的腎會被割掉」的可笑故事，我想叫他們看看西方這些有名有姓的中國留學生喪命新聞，如果要抹黑，用這些真實個案其實可以把西方國家抹得比割腎取肝更驚慄更恐怖。  predict: 1, truth: 0\n",
      "\n",
      "前天下午,广东河源雅居乐三期在建工地倒塌。已建好的副楼一楼主体倒塌，目前伤亡不明。@海尔@智媒体官微.  predict: 0, truth: 1\n",
      "\n",
      "#比特币勒索病毒#太原12级地震的视频，不要打开，立即删除，是病毒，特别是手机上有支付宝，刚刚新闻也在播了，大家都动手转到自己的每个群里，别上当！#抗击比特币病毒#  predict: 0, truth: 1\n",
      "\n",
      "突发事件@庄坤朋:今日11时许，合肥安医二附院北楼13楼泌尿科，一名男子持刀将5名医护人员砍伤，其中一名护士长因伤势严重抢救无效身亡，年近36岁。目前警方已经赶到现场，行凶男子被警方控制。(真不想当医生了。。。。）  predict: 0, truth: 1\n",
      "\n",
      "注意了！！！肯德基情人节点餐就送套套，为了避免尴尬和儿童，他们不会主动说和宣传的，你需要的话就对店员说送我几个肯德基安全套，他们就会免费给！！！！不要错过！  predict: 0, truth: 1\n",
      "\n",
      "扬州大学学士在特巡警大队内坠亡，事发近两月家人至今不明真相！莫训锐，扬州大学学士，南京市浦口区琅琊路小学天润城分校老师。2016年11月12日中午出门，40分钟后在南京市浦口区公安局特巡警大队内坠楼，莫训锐父亲：我想知道我儿子是怎么死的？……http://t.cn/RMbBtps  predict: 1, truth: 0\n",
      "\n",
      "【男子和女友ML时JJ自燃烧焦了】2人均是河南商丘当地一所学校的学生，女孩今年18。女孩透露爱爱前男友喜欢喝白酒，这次也是，正要到高潮的时候她突然觉得下体越来越热，而男友表情痛苦说不出话，才发现有点不对。医生证实，男子JJ基本报废，女孩下体已被灼伤，目前起火原因不明。太激烈了吧！  predict: 0, truth: 1\n",
      "\n",
      "暴力学生团#人肉搜索#找到他们抓起来@广州公安@全国打黑办@央视新闻@最高人民法院@最高人民检察院还男孩公道#神转评.  predict: 1, truth: 0\n",
      "\n",
      "#今日微信热点#买包子误付14万多，过了一个多月愣没发现……网友：这个错误我根本就没机会犯……  predict: 1, truth: 0\n",
      "\n",
      "#青椒提醒#【车辆“6年免检”到期，逾期不审罚款200元记3分】司机要注意，注册日期为2012年2月的车，免检在本月到期，要到检测站接受上线检验！2月28日之后仍未审车的话，将被罚款200元、记3分！@青岛发布@青岛交通广播FM897@青岛公安  predict: 1, truth: 0\n",
      "\n",
      "&lt;中国卖盐的是畜生&gt;中央党校余教授的经历：《盐⾥⾯加进了亚铁氰》大约是⼗几年前，有一段时间我总是感觉到胃口不好，胃口发闷，不想吃东⻄，尤其不想吃肉类，总想吃凉⻄瓜，感觉⾆头厚重。一位中医说我中焦不通。另一位老中医摸着我的脉说，你怎么胃火这么大呢？你胃火不应该大呀？后来我准备忙过那几天去医院做胃镜检查，可是过了一些天自动好了。于是就忘记这件事，但是过了一段时间⼜是胃⼝发闷，然后过些天又好了。后来体检发现我转氨酶升⾼——总胆红素升高——肌酐升高，过上一段时间好些，然后又升高。最严重时感觉肾脏明显不对劲了，并且尿尿呈现酱油色。我亲属中有位协和毕业的博士，他认为我这些症状是某种化学物质导致的，让我细查。我后来⼀一样样排查我的⻝品，最后我终于发现了盐⾥面的抗结剂：亚铁氰化钾！我当时上⽹一查⼤吃一惊，⽹上已经有那么多的谴责，责问中盐为什么往盐里面加亚铁氰化钾！？我马上改⽤了不含抗结剂的盐，不久所有的症状都消了，化验单恢复正常，但是此后肌酐这项一直是正常值内的高数值，也就是说我的肾脏受到了严重伤害。我原来以为这只是我的个⼈体质问题，但是后来⼏次在聚餐时发现结晶，但是用⼿一捏就碎了。2016年夏天我给成都的朋友快递⼀大箱不含抗结剂的盐，结果2017年夏天我去成都在他家吃饭，他拿出我给他快递的盐说还剩几袋⼦你能吃的盐，我一看也只有轻微的结晶，用⼿一捏也碎了，根本不影响正常使用。那可是在较潮湿的地区放了一年的盐！所以我现在问问中盐总公司为什什么⼀定要往盐里面加亚铁氰化钾？前年我给河北某大媒体做专家，在饭桌上我拿出我带去的不含亚铁氰化钾的盐，饭桌上领导听说了亚铁氰化钾的事情，⻢上给中盐河北公司一位领导打电话，要买他们不含亚铁氰化钾的盐，盐业公司那边的领导惊讶：“啊？你们知道这事儿呀……”。2015年夏天我去⼤庆市，朋友知道了我不吃亚铁氰化钾的盐，第二天就跑到中盐大庆公司销售点去买，卖盐的⼈听说他要买几箱子，就极力向他推销含亚铁氰化钾盐，我朋友说我就是专⻔为买不含亚铁氰化钾的盐，为什么要让我买含亚铁氰化钾的盐？卖盐的⼈说这盐好。我的朋友当然没有那么笨。我后来知道央视有一群朋友也和我一样，不买亚铁氰化钾盐。我每次在饭店吃饭要求看看饭店的盐袋子，看是否含亚铁氰化钾，结果绝⼤部分饭店都⽤含亚铁氰化钾的盐，我问他们为什么要买这种盐，他们⼀脸茫然，他们说不知道盐里⾯还加这种东西。大部分朋友也都不知道盐⾥里面的亚铁氰化钾。我问加拿大的亲属，加拿大的盐是否也含亚铁氰化钾。亲属说加拿⼤的超市卖的盐都是圆粒的，不含抗结剂，如果你要用粉末的盐，在超市就有一个小机器，把圆粒的盐倒进去，一摁电钮，盐就打成了粉末，装袋带⾛，自⼰加⼯，不收费。前些年北京市场一直在卖几种不含抗结剂的盐，盐的袋子上就明确写着“本品不不含抗结剂”，（见图1）看来这些盐被挤出了北京市场，现在北京各大超市都以卖含亚铁氰化钾的盐为主。（见图2）[图片]现在即使就是不含抗结剂的盐，盐袋子上也不再标明“本品不含抗结剂”那几个字了。看来有人不希望大家注意抗结剂的问题。我推荐一下辨别方法：看配料表，上面只写一种物质如氯化钠、海盐或者湖盐、矿盐，是最好的盐。含第二种物质的往往是碘酸钾，还凑合能吃。含第三种物质，就是抗结剂，我建议不要吃。如果你家里有孩⼦、孕妇、老⼈都要引起注意他们的肝脏、肾脏没有年轻人那么强壮。以下为百度查询“亚铁氰化钾”简略版：食盐中加“抗结剂”：化学名称为：亚铁氰化钾3.基本用途主要⽤作钢铁⼯业的渗碳剂，以提⾼钢铁制件的表面硬度。印染工业用作氧化助剂，使精元棉布染色逐步进行保持染色质量。颜料工业⽤作生产颜料华蓝的主要原料。化学工业用作除铁剂。食品行业用作食品添加剂----食盐抗结剂。4.相关危害健康危害：该品属低毒类。吸⼊引起咳嗽、气短。⼤量口服引起胃肠不适有资料料报道，中毒时肾脏受损害，尿糖⼤量增加。环境危害：对环境有严重危害。中国还有哪家企业不坑人的吗？咱还需要恶狼狗特朗普出这么大力来打垮咱们吗？  predict: 0, truth: 1\n",
      "\n",
      "#深圳身边事#【棉花替代肉松？龙岗布吉一糕点店的肉松面包竟吃出棉花】10月22日凌晨00:41分，深圳网友@用户5251244173爆料称，在龙岗布吉沙龙路的一家金麦糕点，买到的肉松面包里面吃出棉花，难道是用棉花代替肉松？是食品质量安全，还是卫生管理不到位？为了各位的健康安全，以后吃肉松包还真得注意了。@深圳食品药品监管@深圳卫生监督  predict: 0, truth: 1\n",
      "\n",
      "【苏宁，有点节操好吗？】3月9日发布微博，“苏宁火啦〜苏宁南京总部基地起火。”苏宁易购投诉假消息：“上图为苏宁睿城附近，而下图则为苏宁总部基地，两地分别位于南京市区西南和东北两个方向。”——粉丝发来视频，证明起火地点是苏宁总部。“苏宁，有点节操好吗？”  predict: 0, truth: 1\n",
      "\n",
      "安利老板身故!才56岁,吃了27年的纽崔莱,好讽刺啊!2013年10月16日,安利冠3S系统创始人陈观田因肝癌56岁去世,干了27年安利,吃了27年纽崔莱,为美国人赚了27年钱。安利大师超凡创办人王慈官《远离贫穷》《完整的植物是最好的药物》作者,于2006年7月29日6时在福州逝世.享年61岁。  predict: 0, truth: 1\n",
      "\n",
      "#河源王盛龙#红塔山香烟掺纸箱纸#女士香烟##香烟代购#更多精彩关注微博@王盛龙  predict: 0, truth: 1\n",
      "\n",
      "噩耗！好莱坞影帝NicholasCage尼古拉斯·凯奇（个人介绍）在瑞士滑雪出现事故导致身亡！一颗闪耀的影视巨星殒落！（遇难新闻出处Actor-NicholasCageDiesInSnowboardAccidentNicholasCagediesinsnowboardaccident）  predict: 0, truth: 1\n",
      "\n",
      "#长沙酒吧群架##长沙#今晚20:40许，位于长沙解放西路的菲比酒吧与Muse酒吧因停车位问题发生纠纷，双方聚集人员较多并引发打斗  predict: 0, truth: 1\n",
      "\n",
      "【真是奇闻了】河南商丘一男子和女友爱爱时JJ突然自燃，烧焦了！医生证实，男子确实是自然起火，JJ基本报废，女子下体已被灼伤。女子透露办事前男友总喜欢喝高度白酒，这次也是。医生则表示目前起火原因不明！@杂谈五味@侯宁@中国微闻@焦点联播@天下微刊  predict: 0, truth: 1\n",
      "\n",
      "方才截了张图，共赏共赏@宋海涛-汽车与你估计是临时工了  predict: 0, truth: 1\n",
      "\n",
      "台风海鸥刚过去，又看到报道台风乌鸦还在别处登陆，又准备袭击海南海口，唉，再来次台风，你这是要把整个湛江都给淹了才罢休，你妹的！停止施虐，一个前几天在我眼里如此美丽的地方，现在却如此狼狈，真的很不是滋味，愿再无灾难  predict: 0, truth: 1\n",
      "\n",
      "#温馨提示#家长防诈骗篇，助学金诈骗，骗子自称;某某教育局;工作人员，称有一项针对贫困学生的助学金，并告诉一个;省教育厅办公室;的电话XXX。骗子谎称这笔钱已经转入银行，让家长去银行通过ATM机进行转账，在转账过程中，辅以缴纳相关费用为由骗取钱财。  predict: 1, truth: 0\n",
      "\n",
      "太硬气了!这两大国计划对“巴铁”下黑手!刚刚，中国在联合国发出了最强音!（分享自@搜狗搜索）  predict: 1, truth: 0\n",
      "\n",
      "屠呦呦荣获诺贝尔医学奖，杨澜抢在CCTV前邀请这位鬓发斑白的中国“三无“科学家、85岁高龄的诺奖得主做了访谈。杨澜开门见山问道：“人们称您为三无科学家，请问您为什么没有当选院士？”屠回答“我如果当了院士，怎么还会搞科研获诺奖”？现场爆发岀会心的笑声。  predict: 0, truth: 1\n",
      "\n",
      "#南宁爆料#【广西中医药大学买了800斤荔枝给同学们吃】昨日，广西中医药大学买了800斤荔枝给同学们吃，只留种子做药学实验，据说今天还有师兄师姐们吃怕了，看到实验室都得绕路走。童鞋们，荔枝吃多了会上火，别吃这么多，等等我  predict: 1, truth: 0\n",
      "\n",
      "瞪  predict: 1, truth: 0\n",
      "\n",
      "#八达岭老虎吃游客#动物园已经提示禁止下车，而且之前还签订了责任书。可是女子还是下车了，老虎没有错，它只是一个没有心智的动物而已。女子被叼走后男子犹豫了一下才去追，而母亲被咬死，母爱的伟大超过了她的生命。而新闻报道说老虎还未死，老虎是国家保护动物，为什么要因为一个人的任性而死？  predict: 1, truth: 0\n",
      "\n",
      "#李白腾云#一千多年前，李白的预测！MH370#你去哪了#  predict: 0, truth: 1\n",
      "\n",
      "转//#天天快报#《女子闯红灯被警察当场开枪击毙！》经络养生类新媒体视频事件在澳洲，一名中国年轻女子，步行闯红灯过马路，女子闯红灯被警察当场开枪击毙！  predict: 0, truth: 1\n",
      "\n",
      "中国人每天吃的都是什么？八宝粥里面装的海绵，山东@洲洁润品牌桂圆莲子八宝粥，食品监督都是什么玩意？这种厂家为什么会活下去？@人民日报  predict: 0, truth: 1\n",
      "\n",
      "四川大熊猫因为地震害怕的抱住了警察的腿好可爱好可怜  predict: 0, truth: 1\n",
      "\n",
      "#合肥欢乐岛#  predict: 0, truth: 1\n",
      "\n",
      "全过程  predict: 1, truth: 0\n",
      "\n",
      "SonofChinesegovernmentofficialdruggedandsexuallyassaultedgirlatBritishuniversityafterspendingmonthsdownloadingdaterapepornography钟志明中将，沈阳军区副司令员。其子：钟轩宇，25岁，在英国迷奸猥亵当地女子被判6年。SonofChinesegovernmentofficialdrugged...  predict: 0, truth: 1\n",
      "\n",
      "深圳建行门口家长下车买东西没拔车钥匙，熊孩子开车发生命案。.  predict: 0, truth: 1\n",
      "\n",
      "#盐城身边事#【住酒店千万要小心！东台某宾馆被曝有针孔摄像头！】针孔摄像头一般都好像应该出现在警匪片里的，但有时候的的确确的就会出现在我们身边！这不，东台某宾馆就被网友曝光有针孔摄像头，而且非常隐蔽——居然在机顶盒里面！  predict: 0, truth: 1\n",
      "\n",
      "#泸州太伏中学事件#这年头，对于一件普通的民事案件引起的舆论，竟然能动用民警武警特警三警的动用来镇压和封锁，真是挺大熊猫的奥，还让咱们感到了满满的暖心和体贴呀，看来之前的辱母杀人案件还是没有达到此案件的效果个本质呀，要不然这案件也不会有那么大的亮点了。;泸州太伏中学事件  predict: 0, truth: 1\n",
      "\n",
      "店内现售水果有：台湾凤梨，木瓜，火龙果，红心西柚，泰国山竹，红富士，玫瑰苹果，南非甜橙，美国蓝莓，美国车厘子，海南释迦，新西兰金果，野生绿奇异果，特小凤黄肉西瓜，泰国椰王，泰国椰青等等。欢迎亲们前来选购  predict: 1, truth: 0\n",
      "\n",
      "这就是政府想隐瞒的事儿天津的朋友圈天津政府真尼玛可笑  predict: 0, truth: 1\n",
      "\n",
      "【沙特又一个王子殒命】这是真的吗？沙特前国王法赫德44岁的儿子（阿卜杜勒·阿齐兹·本·法赫德）拒捕被击毙，仅仅在前王储穆克林之子曼苏尔11月5日晚“坠机死亡”后数小时。  predict: 1, truth: 0\n",
      "\n",
      "#我的买房金句#这个贷款利率是半个月往上一调啊，马上全部基准了，民生和兴业银行首套上浮10％的都出来了！#江小鱼专场#  predict: 1, truth: 0\n",
      "\n",
      "杨澜访谈录：【屠呦呦接受杨澜访谈问答录】屠呦呦荣获诺贝尔医学奖，杨澜抢在CCTV前邀请这位鬓发斑白的中国“三无“科学家、85岁高龄的诺奖得主做了访谈。杨澜开门见山问道：“人们称您为三无...文字版&gt;&gt;（新浪长微博&gt;&gt;）  predict: 0, truth: 1\n",
      "\n",
      "大的天灾前夕，动物总是最先感应到的，但愿这次台风过境不要太猛烈。😱😱😱😱微博视频  predict: 0, truth: 1\n",
      "\n",
      "***************************（此处略去不少字）！！（@世事于己无关大哥说：“哥有素质,哥不骂人,我把他转起来,看看大家有没有骂的。”）  predict: 0, truth: 1\n",
      "\n",
      "彪悍的人生，不需要解释！殿堂级暗黑料理正式出炉，用一次性筷子做笋干炒肉！（图据亮兄本尊）  predict: 0, truth: 1\n",
      "\n",
      "广西河池凤山县一92岁的老人被儿子儿媳关进猪圈生活好几年  predict: 1, truth: 0\n",
      "\n",
      "【别怪网速太慢，只怪自己不会调网速！】XP/WIN7系统都会默认限制20％的网速，我们可以很轻松地解除这个限制，使你的上网速度达到100%，真正地体验冲浪的感觉~！本教程仅供技术交流，喜欢赶紧转走吧！学电脑，请关注@黑客是这样练成的  predict: 0, truth: 1\n",
      "\n",
      "四川藏族地区，是世界海拔最高的地区。如果您周围有四到十岁孩子的旧衣服和鞋子，洗干净就可以了。这个岁数的孩子们太缺衣服。邮寄地址：四川甘孜藏族自治州石渠县西区长沙贡马乡小学，邮编：627350校长：达洼2上海·澳门葡国餐厅MACAUPRTUGUESERESTAUR...  predict: 0, truth: 1\n",
      "\n",
      "对ISIS残害人质特别是美国人质的暴行，奥巴马总统誓言将其绳之以法，本周三已向国会正式提案，通过海豹（SEAL）突击队实施地面斩首，为了避免滥杀无辜，美军通过高新技术识别普通人与持枪目标的差别，对ISIS极端分子夜间空对地精准打击，看视频，目标无处藏身，一个个被定点清除。  predict: 0, truth: 1\n",
      "\n",
      "#南京史上最严厉“罚”规#【明年1月1日起正式施行】1、闯红灯,记6分,罚100元.2、酒驾,5年内不得再考取驾照.3、不系安全带,记3分,罚100元.4、副驾不系安全带,记1分,罚50元.5、行驶途中拨打手机,记3分,罚100元.6、行驶途中抽烟,记1分,罚100元.7、有意遮挡号牌,记12分,顶额处罚.8、超速驾驶,记6分！  predict: 0, truth: 1\n",
      "\n",
      "@都市快报14783*3.5*2=104111这到底是怎么算出来的，江西九江与乐安也才罚一万左右，怎么到了崇仁就不是一个国家一个省了，理解不了，求解答？  predict: 1, truth: 0\n",
      "\n",
      "#出动坦克保卫昆明城中村强拆#4月19日昆明市人民西路城中村拆迁工地，出现一辆63A式水陆两栖坦克。据悉，拥有军方背景的保利集团，在2010年开始介入昆明城中村改造后，出现了许多烂尾工程，很多拆迁户签定新房合同到期后却拿不到房子。为防止拆迁户搞事，保利弄来一辆坦克威吓。  predict: 0, truth: 1\n",
      "\n",
      "镇江一辆小轿车被货车压扁现场，女司机当场死亡.  predict: 1, truth: 0\n",
      "\n",
      "#是真的吗#【网传】吉林大学附属第二医院，一个25岁女子被自己的宠物狗咬伤狂犬病发作，送医院抢救，趴在地面上，于当晚死亡？求证是真的吗？  predict: 0, truth: 1\n",
      "\n",
      ";为然心语为然请看视频——孩子让疯狗咬了，看看多可怜！……狂犬病一定要心啊……2018.7.2  predict: 0, truth: 1\n",
      "\n",
      "温州警方通报滴滴司机奸杀案：警察三次要嫌疑人信息两次被拒，经调查不存在“警方说没有车牌号和司机电话不予立案”一事。请滴滴正视自己错误，严格履行安全责任，不要甩锅给警方，希望大家不造谣不传谣。求转发  predict: 1, truth: 0\n",
      "\n",
      "最新：房祖名为求自保，供出演艺圈吸毒大内幕。目前大陆警方已掌握一份120位艺人名单！更锁定2位C姓、1位H姓男星。。。其中1位C姓男演员和房祖名私交甚笃、在两岸都有高知名度；另外1位C姓是歌手、H姓则人气男影星。另据报道，台湾艺人陈柏霖因“不可抗因素”，将缺席近期商业活动...  predict: 0, truth: 1\n",
      "\n",
      "#特警风采#我在马路边捡到一张卡交给警察蜀黍近日定远特巡警大队接警大厅来了一个小朋友，交给特警队员一张公交卡，说在附近捡到的，由于公安系统无法查找失主信息，特警队员并联系了公交公司后，交给了路过的公交车司机，由司机交由公交公司，再联系失主。。@定远特警在线  predict: 1, truth: 0\n",
      "\n",
      "日前，联合国公布了本年度全球“国民素质、道德水平”排名，其概念综合了文化素养、全民教育、经济条件、身体素质等共118项指标，其排名如下：1.日本，2.美国，3.法国，4.荷兰，5.瑞士，6.加拿大，7.澳大利亚，8.德国，9.俄罗斯，10.新西兰..…164.朝鲜，165.刚果，166.阿富汗，167.中国，168.印度。  predict: 0, truth: 1\n",
      "\n",
      "这可以入选中国年度新闻图片了，骂人者与挨骂者的身份均属体制内，分别代表了基层和高层，在疫苗丑闻大背景下，图片的寓意非常深刻。  predict: 1, truth: 0\n",
      "\n",
      "屠呦呦妙答杨澜问：【屠呦呦接受杨澜访谈问答录】屠呦呦荣获诺贝尔医学奖，杨澜抢在CCTV前邀请这位鬓发斑白的中国“三无“科学家、85岁高龄的诺奖得主做了访谈。杨澜开门见山问道：“人们称您...文字版&gt;&gt;（新浪长微博&gt;&gt;）  predict: 0, truth: 1\n",
      "\n",
      "【今天，敢吃中国大闸蟹的人，还是世界上最勇敢的人。】他说，当年七月，他到苏州参加会议用餐时，一位科学院环境研究所知名学者对他说：“你们知道如今的黄鳝为什么长得这么快吗？就是因为饲养(详见长微博)...（分享自@长微博工具）  predict: 0, truth: 1\n",
      "\n",
      "今天看到紧急通知：重庆市中医院王晓燕主任真心的呼吁：工作以来已经遇见五例这样的病人，因发烧，小宝贝服用尼美舒利颗粒发生瑞氏综合症，抢救无效死亡！常备🇺🇸泰诺婴幼儿退烧止痛滴剂，国内医生开的退烧药（包括国内的泰诺）不起作用，上美国泰诺烧很快就退了，请根据图示注意用量。  predict: 0, truth: 1\n",
      "\n",
      "#河源王盛龙#吉林女子狂犬病发作#汪星人##汪星人日记#更多精彩关注微博@王盛龙  predict: 0, truth: 1\n",
      "\n",
      "#长沙解放西路群架#据@长沙警事通报:今晚20:40许，位于长沙解放西路的菲比酒吧与Muse酒吧因停车位问题发生纠纷，双方聚集人员较多并引发打斗。接警后，天心公安分局坡子街派出所民警及时赶到现场控制事态，经民警全力处置，21:35许现场恢复正常秩序，聚集人员散去。  predict: 0, truth: 1\n",
      "\n"
     ]
    }
   ],
   "source": [
    "for i in fault:\n",
    "    print(test_text[i] + \"  predict: \" + str(test_predict[i]) + \", truth: \" + str(int(testY[i])) + \"\\n\")"
   ]
  },
  {
   "cell_type": "code",
   "execution_count": 0,
   "metadata": {
    "colab": {},
    "colab_type": "code",
    "id": "44OFdbjgl8if",
    "outputId": "d604a3a0-8cdd-4b2a-9d25-9e22ddbbfb24"
   },
   "outputs": [
    {
     "name": "stdout",
     "output_type": "stream",
     "text": [
      "WARNING: Entity <bound method BertLayer.call of <__main__.BertLayer object at 0x000002A3B9C28630>> could not be transformed and will be executed as-is. Please report this to the AutgoGraph team. When filing the bug, set the verbosity to 10 (on Linux, `export AUTOGRAPH_VERBOSITY=10`) and attach the full output. Cause: converting <bound method BertLayer.call of <__main__.BertLayer object at 0x000002A3B9C28630>>: AttributeError: module 'gast' has no attribute 'Num'\n"
     ]
    }
   ],
   "source": [
    "params_data_2 = {\n",
    "    'bert_trainable' :False,\n",
    "    'text_no_hidden_layer':1,\n",
    "    'text_hidden_neurons':400,\n",
    "    'dropout':0.3,\n",
    "    'repr_size':32,\n",
    "    'vis_no_hidden_layer':1,\n",
    "    'vis_hidden_neurons':2742,\n",
    "    'final_no_hidden_layer':1,\n",
    "    'final_hidden_neurons':64,\n",
    "    'optimizer':tf.keras.optimizers.Adam\n",
    "}\n",
    "\n",
    "model_2=get_news_model(params_data_2)"
   ]
  },
  {
   "cell_type": "code",
   "execution_count": 0,
   "metadata": {
    "colab": {},
    "colab_type": "code",
    "id": "kCF206_zl8ih",
    "outputId": "7c62626b-6cf9-40fd-a5f6-aaeee67b53c4"
   },
   "outputs": [
    {
     "name": "stdout",
     "output_type": "stream",
     "text": [
      "Train on 15361 samples, validate on 3841 samples\n",
      "Epoch 1/100\n",
      "15361/15361 [==============================] - 264s 17ms/sample - loss: 0.5217 - acc: 0.7498 - val_loss: 0.3729 - val_acc: 0.8258\n",
      "Epoch 2/100\n",
      "15361/15361 [==============================] - 183s 12ms/sample - loss: 0.3567 - acc: 0.8448 - val_loss: 0.3004 - val_acc: 0.8753\n",
      "Epoch 3/100\n",
      "15361/15361 [==============================] - 183s 12ms/sample - loss: 0.3333 - acc: 0.8559 - val_loss: 0.3874 - val_acc: 0.8110\n",
      "Epoch 4/100\n",
      "15361/15361 [==============================] - 181s 12ms/sample - loss: 0.3087 - acc: 0.8667 - val_loss: 0.2647 - val_acc: 0.8883\n",
      "Epoch 5/100\n",
      "15361/15361 [==============================] - 180s 12ms/sample - loss: 0.2954 - acc: 0.8757 - val_loss: 0.2656 - val_acc: 0.8907\n",
      "Epoch 6/100\n",
      "15361/15361 [==============================] - 181s 12ms/sample - loss: 0.2874 - acc: 0.8777 - val_loss: 0.3116 - val_acc: 0.8589\n",
      "Epoch 7/100\n",
      "15361/15361 [==============================] - 181s 12ms/sample - loss: 0.2763 - acc: 0.8833 - val_loss: 0.2985 - val_acc: 0.8677\n",
      "Epoch 8/100\n",
      "15361/15361 [==============================] - 181s 12ms/sample - loss: 0.2756 - acc: 0.8821 - val_loss: 0.2642 - val_acc: 0.8899\n",
      "Epoch 9/100\n",
      "15361/15361 [==============================] - 181s 12ms/sample - loss: 0.2804 - acc: 0.8788 - val_loss: 0.2935 - val_acc: 0.8644\n",
      "Epoch 10/100\n",
      "15361/15361 [==============================] - 181s 12ms/sample - loss: 0.2936 - acc: 0.8729 - val_loss: 0.2450 - val_acc: 0.8985\n",
      "Epoch 11/100\n",
      "15361/15361 [==============================] - 181s 12ms/sample - loss: 0.2662 - acc: 0.8860 - val_loss: 0.2765 - val_acc: 0.8847\n",
      "Epoch 12/100\n",
      "15361/15361 [==============================] - 181s 12ms/sample - loss: 0.2661 - acc: 0.8852 - val_loss: 0.2448 - val_acc: 0.8938\n",
      "Epoch 13/100\n",
      "15361/15361 [==============================] - 181s 12ms/sample - loss: 0.2587 - acc: 0.8905 - val_loss: 0.2696 - val_acc: 0.8808\n",
      "Epoch 14/100\n",
      "15361/15361 [==============================] - 181s 12ms/sample - loss: 0.2530 - acc: 0.8913 - val_loss: 0.2278 - val_acc: 0.9026\n",
      "Epoch 15/100\n",
      "15361/15361 [==============================] - 181s 12ms/sample - loss: 0.2455 - acc: 0.8960 - val_loss: 0.2490 - val_acc: 0.8964\n",
      "Epoch 16/100\n",
      "15361/15361 [==============================] - 181s 12ms/sample - loss: 0.2520 - acc: 0.8929 - val_loss: 0.2345 - val_acc: 0.9026\n",
      "Epoch 17/100\n",
      "15361/15361 [==============================] - 181s 12ms/sample - loss: 0.2508 - acc: 0.8921 - val_loss: 0.2304 - val_acc: 0.9029\n",
      "Epoch 18/100\n",
      "15361/15361 [==============================] - 181s 12ms/sample - loss: 0.2439 - acc: 0.8967 - val_loss: 0.2264 - val_acc: 0.9058\n",
      "Epoch 19/100\n",
      "15361/15361 [==============================] - 181s 12ms/sample - loss: 0.2473 - acc: 0.8956 - val_loss: 0.2529 - val_acc: 0.8865\n",
      "Epoch 20/100\n",
      "15361/15361 [==============================] - 181s 12ms/sample - loss: 0.2431 - acc: 0.8969 - val_loss: 0.2648 - val_acc: 0.8834\n",
      "Epoch 21/100\n",
      "15361/15361 [==============================] - 181s 12ms/sample - loss: 0.2515 - acc: 0.8928 - val_loss: 0.2349 - val_acc: 0.9055\n",
      "Epoch 22/100\n",
      "15361/15361 [==============================] - 181s 12ms/sample - loss: 0.2455 - acc: 0.8925 - val_loss: 0.2185 - val_acc: 0.9065\n",
      "Epoch 23/100\n",
      "15361/15361 [==============================] - 181s 12ms/sample - loss: 0.2462 - acc: 0.8961 - val_loss: 0.2253 - val_acc: 0.9058\n",
      "Epoch 24/100\n",
      "15361/15361 [==============================] - 181s 12ms/sample - loss: 0.2374 - acc: 0.8995 - val_loss: 0.2287 - val_acc: 0.8985\n",
      "Epoch 25/100\n",
      "15361/15361 [==============================] - 181s 12ms/sample - loss: 0.2599 - acc: 0.8912 - val_loss: 0.2240 - val_acc: 0.9024\n",
      "Epoch 26/100\n",
      "15361/15361 [==============================] - 181s 12ms/sample - loss: 0.2290 - acc: 0.9026 - val_loss: 0.2213 - val_acc: 0.9091\n",
      "Epoch 27/100\n",
      "15361/15361 [==============================] - 181s 12ms/sample - loss: 0.2247 - acc: 0.9080 - val_loss: 0.2142 - val_acc: 0.9071\n",
      "Epoch 28/100\n",
      "15361/15361 [==============================] - 181s 12ms/sample - loss: 0.2336 - acc: 0.9004 - val_loss: 0.2336 - val_acc: 0.8998\n",
      "Epoch 29/100\n",
      "15361/15361 [==============================] - 181s 12ms/sample - loss: 0.2323 - acc: 0.8988 - val_loss: 0.2246 - val_acc: 0.9018\n",
      "Epoch 30/100\n",
      "15361/15361 [==============================] - 181s 12ms/sample - loss: 0.2365 - acc: 0.8997 - val_loss: 0.2191 - val_acc: 0.9107\n",
      "Epoch 31/100\n",
      "15361/15361 [==============================] - 181s 12ms/sample - loss: 0.2382 - acc: 0.8981 - val_loss: 0.2149 - val_acc: 0.9076\n",
      "Epoch 32/100\n",
      "15361/15361 [==============================] - 181s 12ms/sample - loss: 0.2274 - acc: 0.9022 - val_loss: 0.2284 - val_acc: 0.9042\n",
      "Epoch 33/100\n",
      "15361/15361 [==============================] - 181s 12ms/sample - loss: 0.2322 - acc: 0.9009 - val_loss: 0.2168 - val_acc: 0.9086\n",
      "Epoch 34/100\n",
      "15361/15361 [==============================] - 181s 12ms/sample - loss: 0.2362 - acc: 0.8981 - val_loss: 0.2093 - val_acc: 0.9133\n",
      "Epoch 35/100\n",
      "15361/15361 [==============================] - 181s 12ms/sample - loss: 0.2297 - acc: 0.9011 - val_loss: 0.2008 - val_acc: 0.9188\n",
      "Epoch 36/100\n",
      "15361/15361 [==============================] - 181s 12ms/sample - loss: 0.2242 - acc: 0.9033 - val_loss: 0.2517 - val_acc: 0.8896\n",
      "Epoch 37/100\n",
      "15361/15361 [==============================] - 181s 12ms/sample - loss: 0.2326 - acc: 0.8997 - val_loss: 0.2166 - val_acc: 0.9073\n",
      "Epoch 38/100\n",
      "15361/15361 [==============================] - 181s 12ms/sample - loss: 0.2217 - acc: 0.9051 - val_loss: 0.2428 - val_acc: 0.8972\n",
      "Epoch 39/100\n",
      "15361/15361 [==============================] - 181s 12ms/sample - loss: 0.2207 - acc: 0.9061 - val_loss: 0.2005 - val_acc: 0.9143\n",
      "Epoch 40/100\n",
      "15361/15361 [==============================] - 181s 12ms/sample - loss: 0.2277 - acc: 0.9027 - val_loss: 0.2482 - val_acc: 0.8946\n",
      "Epoch 41/100\n",
      "15361/15361 [==============================] - 181s 12ms/sample - loss: 0.2204 - acc: 0.9059 - val_loss: 0.2118 - val_acc: 0.9112\n",
      "Epoch 42/100\n",
      "15361/15361 [==============================] - 181s 12ms/sample - loss: 0.2240 - acc: 0.9040 - val_loss: 0.2069 - val_acc: 0.9128\n",
      "Epoch 43/100\n",
      "15361/15361 [==============================] - 181s 12ms/sample - loss: 0.2201 - acc: 0.9061 - val_loss: 0.2158 - val_acc: 0.9050\n",
      "Epoch 44/100\n",
      "15361/15361 [==============================] - 181s 12ms/sample - loss: 0.2236 - acc: 0.9056 - val_loss: 0.2111 - val_acc: 0.9097\n",
      "Epoch 45/100\n",
      "15361/15361 [==============================] - 181s 12ms/sample - loss: 0.2118 - acc: 0.9115 - val_loss: 0.2034 - val_acc: 0.9104\n",
      "Epoch 46/100\n",
      "15361/15361 [==============================] - 181s 12ms/sample - loss: 0.2204 - acc: 0.9055 - val_loss: 0.2046 - val_acc: 0.9107\n",
      "Epoch 47/100\n",
      "15361/15361 [==============================] - 181s 12ms/sample - loss: 0.2175 - acc: 0.9055 - val_loss: 0.2002 - val_acc: 0.9185\n",
      "Epoch 48/100\n",
      "15361/15361 [==============================] - 181s 12ms/sample - loss: 0.2072 - acc: 0.9115 - val_loss: 0.1991 - val_acc: 0.9180\n",
      "Epoch 49/100\n",
      "15361/15361 [==============================] - 181s 12ms/sample - loss: 0.2129 - acc: 0.9081 - val_loss: 0.2077 - val_acc: 0.9128\n",
      "Epoch 50/100\n",
      "15361/15361 [==============================] - 181s 12ms/sample - loss: 0.2177 - acc: 0.9067 - val_loss: 0.2069 - val_acc: 0.9094\n",
      "Epoch 51/100\n",
      "15361/15361 [==============================] - 181s 12ms/sample - loss: 0.2190 - acc: 0.9098 - val_loss: 0.1963 - val_acc: 0.9156\n",
      "Epoch 52/100\n",
      "15361/15361 [==============================] - 181s 12ms/sample - loss: 0.2074 - acc: 0.9150 - val_loss: 0.1997 - val_acc: 0.9198\n",
      "Epoch 53/100\n",
      "15361/15361 [==============================] - 181s 12ms/sample - loss: 0.2271 - acc: 0.9053 - val_loss: 0.2071 - val_acc: 0.9104\n",
      "Epoch 54/100\n",
      "15361/15361 [==============================] - 181s 12ms/sample - loss: 0.2092 - acc: 0.9111 - val_loss: 0.1979 - val_acc: 0.9190\n",
      "Epoch 55/100\n",
      "15361/15361 [==============================] - 181s 12ms/sample - loss: 0.2129 - acc: 0.9076 - val_loss: 0.2072 - val_acc: 0.9133\n",
      "Epoch 56/100\n",
      "15361/15361 [==============================] - 181s 12ms/sample - loss: 0.2049 - acc: 0.9143 - val_loss: 0.2051 - val_acc: 0.9123\n",
      "Epoch 57/100\n",
      "15361/15361 [==============================] - 181s 12ms/sample - loss: 0.2097 - acc: 0.9131 - val_loss: 0.2151 - val_acc: 0.9039\n",
      "Epoch 58/100\n"
     ]
    },
    {
     "name": "stdout",
     "output_type": "stream",
     "text": [
      "15361/15361 [==============================] - 181s 12ms/sample - loss: 0.2061 - acc: 0.9145 - val_loss: 0.2020 - val_acc: 0.9183\n",
      "Epoch 59/100\n",
      "15361/15361 [==============================] - 181s 12ms/sample - loss: 0.2098 - acc: 0.9102 - val_loss: 0.2268 - val_acc: 0.8964\n",
      "Epoch 60/100\n",
      "15361/15361 [==============================] - 181s 12ms/sample - loss: 0.2100 - acc: 0.9097 - val_loss: 0.2025 - val_acc: 0.9130\n",
      "Epoch 61/100\n",
      "15361/15361 [==============================] - 181s 12ms/sample - loss: 0.2171 - acc: 0.9056 - val_loss: 0.1976 - val_acc: 0.9183\n",
      "Epoch 62/100\n",
      "15361/15361 [==============================] - 181s 12ms/sample - loss: 0.2171 - acc: 0.9070 - val_loss: 0.2127 - val_acc: 0.9055\n",
      "Epoch 63/100\n",
      "15361/15361 [==============================] - 181s 12ms/sample - loss: 0.2356 - acc: 0.8943 - val_loss: 0.2045 - val_acc: 0.9175\n",
      "Epoch 64/100\n",
      "15361/15361 [==============================] - 181s 12ms/sample - loss: 0.2126 - acc: 0.9072 - val_loss: 0.1992 - val_acc: 0.9159\n",
      "Epoch 65/100\n",
      "15361/15361 [==============================] - 181s 12ms/sample - loss: 0.2086 - acc: 0.9083 - val_loss: 0.2150 - val_acc: 0.9128\n",
      "Epoch 66/100\n",
      "15361/15361 [==============================] - 181s 12ms/sample - loss: 0.2182 - acc: 0.9046 - val_loss: 0.2068 - val_acc: 0.9149\n",
      "Epoch 67/100\n",
      "15361/15361 [==============================] - 181s 12ms/sample - loss: 0.2138 - acc: 0.9068 - val_loss: 0.2033 - val_acc: 0.9154\n",
      "Epoch 68/100\n",
      "15361/15361 [==============================] - 181s 12ms/sample - loss: 0.2088 - acc: 0.9083 - val_loss: 0.1968 - val_acc: 0.9175\n",
      "Epoch 69/100\n",
      "15361/15361 [==============================] - 181s 12ms/sample - loss: 0.2093 - acc: 0.9050 - val_loss: 0.2145 - val_acc: 0.9115\n",
      "Epoch 70/100\n",
      "15361/15361 [==============================] - 181s 12ms/sample - loss: 0.2120 - acc: 0.9090 - val_loss: 0.2461 - val_acc: 0.8995\n",
      "Epoch 71/100\n",
      "15361/15361 [==============================] - 181s 12ms/sample - loss: 0.2314 - acc: 0.8990 - val_loss: 0.2021 - val_acc: 0.9146\n",
      "Epoch 72/100\n",
      "15361/15361 [==============================] - 181s 12ms/sample - loss: 0.2216 - acc: 0.9020 - val_loss: 0.2073 - val_acc: 0.9112\n",
      "Epoch 73/100\n",
      "15361/15361 [==============================] - 181s 12ms/sample - loss: 0.2245 - acc: 0.8973 - val_loss: 0.2224 - val_acc: 0.9047\n",
      "Epoch 74/100\n",
      "15361/15361 [==============================] - 181s 12ms/sample - loss: 0.2114 - acc: 0.9059 - val_loss: 0.2004 - val_acc: 0.9183\n",
      "Epoch 75/100\n",
      "15361/15361 [==============================] - 181s 12ms/sample - loss: 0.2035 - acc: 0.9094 - val_loss: 0.1936 - val_acc: 0.9190\n",
      "Epoch 76/100\n",
      "15361/15361 [==============================] - 181s 12ms/sample - loss: 0.2056 - acc: 0.9059 - val_loss: 0.2293 - val_acc: 0.9055\n",
      "Epoch 77/100\n",
      "15361/15361 [==============================] - 181s 12ms/sample - loss: 0.2554 - acc: 0.8884 - val_loss: 0.2681 - val_acc: 0.8888\n",
      "Epoch 78/100\n",
      "15361/15361 [==============================] - 181s 12ms/sample - loss: 0.2590 - acc: 0.8867 - val_loss: 0.2158 - val_acc: 0.9073\n",
      "Epoch 79/100\n",
      "15361/15361 [==============================] - 181s 12ms/sample - loss: 0.2402 - acc: 0.8928 - val_loss: 0.2091 - val_acc: 0.9086\n",
      "Epoch 80/100\n",
      "15361/15361 [==============================] - 181s 12ms/sample - loss: 0.2312 - acc: 0.9001 - val_loss: 0.2202 - val_acc: 0.9032\n",
      "Epoch 81/100\n",
      "15361/15361 [==============================] - 181s 12ms/sample - loss: 0.2279 - acc: 0.8986 - val_loss: 0.2022 - val_acc: 0.9143\n",
      "Epoch 82/100\n",
      "15361/15361 [==============================] - 181s 12ms/sample - loss: 0.2234 - acc: 0.9002 - val_loss: 0.2042 - val_acc: 0.9149\n",
      "Epoch 83/100\n",
      "15361/15361 [==============================] - 181s 12ms/sample - loss: 0.2200 - acc: 0.8979 - val_loss: 0.2078 - val_acc: 0.9117\n",
      "Epoch 84/100\n",
      "15361/15361 [==============================] - 181s 12ms/sample - loss: 0.2207 - acc: 0.9010 - val_loss: 0.2133 - val_acc: 0.9065\n",
      "Epoch 85/100\n",
      "15361/15361 [==============================] - 181s 12ms/sample - loss: 0.2169 - acc: 0.9027 - val_loss: 0.2104 - val_acc: 0.9094\n",
      "Epoch 86/100\n",
      "15361/15361 [==============================] - 181s 12ms/sample - loss: 0.2173 - acc: 0.9029 - val_loss: 0.2327 - val_acc: 0.9024\n",
      "Epoch 87/100\n",
      "15361/15361 [==============================] - 181s 12ms/sample - loss: 0.2425 - acc: 0.8857 - val_loss: 0.2150 - val_acc: 0.9128\n",
      "Epoch 88/100\n",
      "15361/15361 [==============================] - 181s 12ms/sample - loss: 0.2331 - acc: 0.8932 - val_loss: 0.2092 - val_acc: 0.9128\n",
      "Epoch 89/100\n",
      "15361/15361 [==============================] - 181s 12ms/sample - loss: 0.2234 - acc: 0.8978 - val_loss: 0.2236 - val_acc: 0.9123\n",
      "Epoch 90/100\n",
      "15361/15361 [==============================] - 181s 12ms/sample - loss: 0.2198 - acc: 0.8971 - val_loss: 0.2058 - val_acc: 0.9169\n",
      "Epoch 91/100\n",
      "15361/15361 [==============================] - 181s 12ms/sample - loss: 0.2131 - acc: 0.9015 - val_loss: 0.1994 - val_acc: 0.9206\n",
      "Epoch 92/100\n",
      "15361/15361 [==============================] - 181s 12ms/sample - loss: 0.2156 - acc: 0.9038 - val_loss: 0.2109 - val_acc: 0.9141\n",
      "Epoch 93/100\n",
      "15361/15361 [==============================] - 181s 12ms/sample - loss: 0.2224 - acc: 0.8962 - val_loss: 0.2086 - val_acc: 0.9130\n",
      "Epoch 94/100\n",
      "15361/15361 [==============================] - 181s 12ms/sample - loss: 0.2118 - acc: 0.9010 - val_loss: 0.2015 - val_acc: 0.9180\n",
      "Epoch 95/100\n",
      "15361/15361 [==============================] - 181s 12ms/sample - loss: 0.2136 - acc: 0.9072 - val_loss: 0.2156 - val_acc: 0.9089\n",
      "Epoch 96/100\n",
      "15361/15361 [==============================] - 181s 12ms/sample - loss: 0.2291 - acc: 0.8892 - val_loss: 0.2600 - val_acc: 0.8953\n",
      "Epoch 97/100\n",
      "15361/15361 [==============================] - 181s 12ms/sample - loss: 0.2500 - acc: 0.8893 - val_loss: 0.2156 - val_acc: 0.9078\n",
      "Epoch 98/100\n",
      "15361/15361 [==============================] - 181s 12ms/sample - loss: 0.2272 - acc: 0.8977 - val_loss: 0.2109 - val_acc: 0.9084\n",
      "Epoch 99/100\n",
      "15361/15361 [==============================] - 181s 12ms/sample - loss: 0.2301 - acc: 0.8951 - val_loss: 0.2161 - val_acc: 0.9055\n",
      "Epoch 100/100\n",
      "15361/15361 [==============================] - 181s 12ms/sample - loss: 0.2420 - acc: 0.8888 - val_loss: 0.2126 - val_acc: 0.9136\n"
     ]
    }
   ],
   "source": [
    "out_2 = model_2.fit([train_input_ids, train_input_masks, train_segment_ids,train_imagesX], trainY,\n",
    "                    batch_size=128,\n",
    "                    epochs=100,\n",
    "                    verbose=1,\n",
    "                    shuffle=True,\n",
    "                    validation_data=([test_input_ids, test_input_masks, test_segment_ids,test_imagesX],testY))"
   ]
  },
  {
   "cell_type": "code",
   "execution_count": 0,
   "metadata": {
    "colab": {},
    "colab_type": "code",
    "id": "5Vl7xE3nl8ii",
    "outputId": "93697ce7-f436-40c4-a165-f4d68e69053e"
   },
   "outputs": [
    {
     "name": "stdout",
     "output_type": "stream",
     "text": [
      "Accuracy == 0.9135641759958344\n",
      "F1 == [0.91216931 0.91491543]\n",
      "Precision == [0.91216931 0.91491543]\n",
      "Recall == [0.91216931 0.91491543]\n"
     ]
    }
   ],
   "source": [
    "test_predict = model_2.predict([test_input_ids, test_input_masks, test_segment_ids,test_imagesX])\n",
    "test_predict = [1 if i>=0.5 else 0 for i in test_predict]\n",
    "\n",
    "print(f'Accuracy == {accuracy_score(testY,test_predict)}')\n",
    "print(f'F1 == {f1_score(testY,test_predict,average=None)}')\n",
    "print(f'Precision == {precision_score(testY,test_predict,average=None)}')\n",
    "print(f'Recall == {recall_score(testY,test_predict,average=None)}')"
   ]
  },
  {
   "cell_type": "code",
   "execution_count": 0,
   "metadata": {
    "colab": {},
    "colab_type": "code",
    "id": "1U69_23Fl8ik"
   },
   "outputs": [],
   "source": []
  }
 ],
 "metadata": {
  "accelerator": "GPU",
  "colab": {
   "collapsed_sections": [],
   "name": "MMFFND-base-BERT.ipynb",
   "provenance": []
  },
  "kernelspec": {
   "display_name": "Python 3",
   "language": "python",
   "name": "python3"
  },
  "language_info": {
   "codemirror_mode": {
    "name": "ipython",
    "version": 3
   },
   "file_extension": ".py",
   "mimetype": "text/x-python",
   "name": "python",
   "nbconvert_exporter": "python",
   "pygments_lexer": "ipython3",
   "version": "3.7.4"
  },
  "widgets": {
   "application/vnd.jupyter.widget-state+json": {
    "0c124194fd4144dba6de7d8da4210f17": {
     "model_module": "@jupyter-widgets/base",
     "model_name": "LayoutModel",
     "state": {
      "_model_module": "@jupyter-widgets/base",
      "_model_module_version": "1.2.0",
      "_model_name": "LayoutModel",
      "_view_count": null,
      "_view_module": "@jupyter-widgets/base",
      "_view_module_version": "1.2.0",
      "_view_name": "LayoutView",
      "align_content": null,
      "align_items": null,
      "align_self": null,
      "border": null,
      "bottom": null,
      "display": null,
      "flex": null,
      "flex_flow": null,
      "grid_area": null,
      "grid_auto_columns": null,
      "grid_auto_flow": null,
      "grid_auto_rows": null,
      "grid_column": null,
      "grid_gap": null,
      "grid_row": null,
      "grid_template_areas": null,
      "grid_template_columns": null,
      "grid_template_rows": null,
      "height": null,
      "justify_content": null,
      "justify_items": null,
      "left": null,
      "margin": null,
      "max_height": null,
      "max_width": null,
      "min_height": null,
      "min_width": null,
      "object_fit": null,
      "object_position": null,
      "order": null,
      "overflow": null,
      "overflow_x": null,
      "overflow_y": null,
      "padding": null,
      "right": null,
      "top": null,
      "visibility": null,
      "width": null
     }
    },
    "0e952f7ef3304cf0a1ca8fe380f69e68": {
     "model_module": "@jupyter-widgets/controls",
     "model_name": "HBoxModel",
     "state": {
      "_dom_classes": [],
      "_model_module": "@jupyter-widgets/controls",
      "_model_module_version": "1.5.0",
      "_model_name": "HBoxModel",
      "_view_count": null,
      "_view_module": "@jupyter-widgets/controls",
      "_view_module_version": "1.5.0",
      "_view_name": "HBoxView",
      "box_style": "",
      "children": [
       "IPY_MODEL_9d54e387b33f4f7dacea4a2e79825194",
       "IPY_MODEL_c609a118df434330ababa009a851d4bc"
      ],
      "layout": "IPY_MODEL_e6d028225d4c407db375742552fa7aa8"
     }
    },
    "157314abf2ec45b9a6d0de565fa06005": {
     "model_module": "@jupyter-widgets/controls",
     "model_name": "DescriptionStyleModel",
     "state": {
      "_model_module": "@jupyter-widgets/controls",
      "_model_module_version": "1.5.0",
      "_model_name": "DescriptionStyleModel",
      "_view_count": null,
      "_view_module": "@jupyter-widgets/base",
      "_view_module_version": "1.2.0",
      "_view_name": "StyleView",
      "description_width": ""
     }
    },
    "202a52fcde86435585fc34f60ea1e0eb": {
     "model_module": "@jupyter-widgets/controls",
     "model_name": "IntProgressModel",
     "state": {
      "_dom_classes": [],
      "_model_module": "@jupyter-widgets/controls",
      "_model_module_version": "1.5.0",
      "_model_name": "IntProgressModel",
      "_view_count": null,
      "_view_module": "@jupyter-widgets/controls",
      "_view_module_version": "1.5.0",
      "_view_name": "ProgressView",
      "bar_style": "success",
      "description": "Converting examples to features: 100%",
      "description_tooltip": null,
      "layout": "IPY_MODEL_0c124194fd4144dba6de7d8da4210f17",
      "max": 15356,
      "min": 0,
      "orientation": "horizontal",
      "style": "IPY_MODEL_22f08ff82103457baf0451258b88a231",
      "value": 15356
     }
    },
    "22f08ff82103457baf0451258b88a231": {
     "model_module": "@jupyter-widgets/controls",
     "model_name": "ProgressStyleModel",
     "state": {
      "_model_module": "@jupyter-widgets/controls",
      "_model_module_version": "1.5.0",
      "_model_name": "ProgressStyleModel",
      "_view_count": null,
      "_view_module": "@jupyter-widgets/base",
      "_view_module_version": "1.2.0",
      "_view_name": "StyleView",
      "bar_color": null,
      "description_width": "initial"
     }
    },
    "60d2e75408d5497ba763bbf99892d03c": {
     "model_module": "@jupyter-widgets/controls",
     "model_name": "HTMLModel",
     "state": {
      "_dom_classes": [],
      "_model_module": "@jupyter-widgets/controls",
      "_model_module_version": "1.5.0",
      "_model_name": "HTMLModel",
      "_view_count": null,
      "_view_module": "@jupyter-widgets/controls",
      "_view_module_version": "1.5.0",
      "_view_name": "HTMLView",
      "description": "",
      "description_tooltip": null,
      "layout": "IPY_MODEL_7d6ad0d07ddb43b381a30e57a2ab5953",
      "placeholder": "​",
      "style": "IPY_MODEL_157314abf2ec45b9a6d0de565fa06005",
      "value": " 15356/15356 [03:58&lt;00:00, 64.30it/s]"
     }
    },
    "7d6ad0d07ddb43b381a30e57a2ab5953": {
     "model_module": "@jupyter-widgets/base",
     "model_name": "LayoutModel",
     "state": {
      "_model_module": "@jupyter-widgets/base",
      "_model_module_version": "1.2.0",
      "_model_name": "LayoutModel",
      "_view_count": null,
      "_view_module": "@jupyter-widgets/base",
      "_view_module_version": "1.2.0",
      "_view_name": "LayoutView",
      "align_content": null,
      "align_items": null,
      "align_self": null,
      "border": null,
      "bottom": null,
      "display": null,
      "flex": null,
      "flex_flow": null,
      "grid_area": null,
      "grid_auto_columns": null,
      "grid_auto_flow": null,
      "grid_auto_rows": null,
      "grid_column": null,
      "grid_gap": null,
      "grid_row": null,
      "grid_template_areas": null,
      "grid_template_columns": null,
      "grid_template_rows": null,
      "height": null,
      "justify_content": null,
      "justify_items": null,
      "left": null,
      "margin": null,
      "max_height": null,
      "max_width": null,
      "min_height": null,
      "min_width": null,
      "object_fit": null,
      "object_position": null,
      "order": null,
      "overflow": null,
      "overflow_x": null,
      "overflow_y": null,
      "padding": null,
      "right": null,
      "top": null,
      "visibility": null,
      "width": null
     }
    },
    "7dd57caef0f94ca2a2ddbfbadc8280d6": {
     "model_module": "@jupyter-widgets/base",
     "model_name": "LayoutModel",
     "state": {
      "_model_module": "@jupyter-widgets/base",
      "_model_module_version": "1.2.0",
      "_model_name": "LayoutModel",
      "_view_count": null,
      "_view_module": "@jupyter-widgets/base",
      "_view_module_version": "1.2.0",
      "_view_name": "LayoutView",
      "align_content": null,
      "align_items": null,
      "align_self": null,
      "border": null,
      "bottom": null,
      "display": null,
      "flex": null,
      "flex_flow": null,
      "grid_area": null,
      "grid_auto_columns": null,
      "grid_auto_flow": null,
      "grid_auto_rows": null,
      "grid_column": null,
      "grid_gap": null,
      "grid_row": null,
      "grid_template_areas": null,
      "grid_template_columns": null,
      "grid_template_rows": null,
      "height": null,
      "justify_content": null,
      "justify_items": null,
      "left": null,
      "margin": null,
      "max_height": null,
      "max_width": null,
      "min_height": null,
      "min_width": null,
      "object_fit": null,
      "object_position": null,
      "order": null,
      "overflow": null,
      "overflow_x": null,
      "overflow_y": null,
      "padding": null,
      "right": null,
      "top": null,
      "visibility": null,
      "width": null
     }
    },
    "9d54e387b33f4f7dacea4a2e79825194": {
     "model_module": "@jupyter-widgets/controls",
     "model_name": "IntProgressModel",
     "state": {
      "_dom_classes": [],
      "_model_module": "@jupyter-widgets/controls",
      "_model_module_version": "1.5.0",
      "_model_name": "IntProgressModel",
      "_view_count": null,
      "_view_module": "@jupyter-widgets/controls",
      "_view_module_version": "1.5.0",
      "_view_name": "ProgressView",
      "bar_style": "success",
      "description": "Converting examples to features: 100%",
      "description_tooltip": null,
      "layout": "IPY_MODEL_7dd57caef0f94ca2a2ddbfbadc8280d6",
      "max": 3839,
      "min": 0,
      "orientation": "horizontal",
      "style": "IPY_MODEL_fd0d3b9268e9401e8a084b5542ad3965",
      "value": 3839
     }
    },
    "a34d2bf44d644e3c82c814140322162f": {
     "model_module": "@jupyter-widgets/controls",
     "model_name": "DescriptionStyleModel",
     "state": {
      "_model_module": "@jupyter-widgets/controls",
      "_model_module_version": "1.5.0",
      "_model_name": "DescriptionStyleModel",
      "_view_count": null,
      "_view_module": "@jupyter-widgets/base",
      "_view_module_version": "1.2.0",
      "_view_name": "StyleView",
      "description_width": ""
     }
    },
    "a39209fd064f4e3ea777008318e93f28": {
     "model_module": "@jupyter-widgets/base",
     "model_name": "LayoutModel",
     "state": {
      "_model_module": "@jupyter-widgets/base",
      "_model_module_version": "1.2.0",
      "_model_name": "LayoutModel",
      "_view_count": null,
      "_view_module": "@jupyter-widgets/base",
      "_view_module_version": "1.2.0",
      "_view_name": "LayoutView",
      "align_content": null,
      "align_items": null,
      "align_self": null,
      "border": null,
      "bottom": null,
      "display": null,
      "flex": null,
      "flex_flow": null,
      "grid_area": null,
      "grid_auto_columns": null,
      "grid_auto_flow": null,
      "grid_auto_rows": null,
      "grid_column": null,
      "grid_gap": null,
      "grid_row": null,
      "grid_template_areas": null,
      "grid_template_columns": null,
      "grid_template_rows": null,
      "height": null,
      "justify_content": null,
      "justify_items": null,
      "left": null,
      "margin": null,
      "max_height": null,
      "max_width": null,
      "min_height": null,
      "min_width": null,
      "object_fit": null,
      "object_position": null,
      "order": null,
      "overflow": null,
      "overflow_x": null,
      "overflow_y": null,
      "padding": null,
      "right": null,
      "top": null,
      "visibility": null,
      "width": null
     }
    },
    "ab4b7a53a2de456eb7b63d1d893277b9": {
     "model_module": "@jupyter-widgets/base",
     "model_name": "LayoutModel",
     "state": {
      "_model_module": "@jupyter-widgets/base",
      "_model_module_version": "1.2.0",
      "_model_name": "LayoutModel",
      "_view_count": null,
      "_view_module": "@jupyter-widgets/base",
      "_view_module_version": "1.2.0",
      "_view_name": "LayoutView",
      "align_content": null,
      "align_items": null,
      "align_self": null,
      "border": null,
      "bottom": null,
      "display": null,
      "flex": null,
      "flex_flow": null,
      "grid_area": null,
      "grid_auto_columns": null,
      "grid_auto_flow": null,
      "grid_auto_rows": null,
      "grid_column": null,
      "grid_gap": null,
      "grid_row": null,
      "grid_template_areas": null,
      "grid_template_columns": null,
      "grid_template_rows": null,
      "height": null,
      "justify_content": null,
      "justify_items": null,
      "left": null,
      "margin": null,
      "max_height": null,
      "max_width": null,
      "min_height": null,
      "min_width": null,
      "object_fit": null,
      "object_position": null,
      "order": null,
      "overflow": null,
      "overflow_x": null,
      "overflow_y": null,
      "padding": null,
      "right": null,
      "top": null,
      "visibility": null,
      "width": null
     }
    },
    "c609a118df434330ababa009a851d4bc": {
     "model_module": "@jupyter-widgets/controls",
     "model_name": "HTMLModel",
     "state": {
      "_dom_classes": [],
      "_model_module": "@jupyter-widgets/controls",
      "_model_module_version": "1.5.0",
      "_model_name": "HTMLModel",
      "_view_count": null,
      "_view_module": "@jupyter-widgets/controls",
      "_view_module_version": "1.5.0",
      "_view_name": "HTMLView",
      "description": "",
      "description_tooltip": null,
      "layout": "IPY_MODEL_a39209fd064f4e3ea777008318e93f28",
      "placeholder": "​",
      "style": "IPY_MODEL_a34d2bf44d644e3c82c814140322162f",
      "value": " 3839/3839 [03:43&lt;00:00, 17.14it/s]"
     }
    },
    "d6b0d125fdcb449292561814d243b096": {
     "model_module": "@jupyter-widgets/controls",
     "model_name": "HBoxModel",
     "state": {
      "_dom_classes": [],
      "_model_module": "@jupyter-widgets/controls",
      "_model_module_version": "1.5.0",
      "_model_name": "HBoxModel",
      "_view_count": null,
      "_view_module": "@jupyter-widgets/controls",
      "_view_module_version": "1.5.0",
      "_view_name": "HBoxView",
      "box_style": "",
      "children": [
       "IPY_MODEL_202a52fcde86435585fc34f60ea1e0eb",
       "IPY_MODEL_60d2e75408d5497ba763bbf99892d03c"
      ],
      "layout": "IPY_MODEL_ab4b7a53a2de456eb7b63d1d893277b9"
     }
    },
    "e6d028225d4c407db375742552fa7aa8": {
     "model_module": "@jupyter-widgets/base",
     "model_name": "LayoutModel",
     "state": {
      "_model_module": "@jupyter-widgets/base",
      "_model_module_version": "1.2.0",
      "_model_name": "LayoutModel",
      "_view_count": null,
      "_view_module": "@jupyter-widgets/base",
      "_view_module_version": "1.2.0",
      "_view_name": "LayoutView",
      "align_content": null,
      "align_items": null,
      "align_self": null,
      "border": null,
      "bottom": null,
      "display": null,
      "flex": null,
      "flex_flow": null,
      "grid_area": null,
      "grid_auto_columns": null,
      "grid_auto_flow": null,
      "grid_auto_rows": null,
      "grid_column": null,
      "grid_gap": null,
      "grid_row": null,
      "grid_template_areas": null,
      "grid_template_columns": null,
      "grid_template_rows": null,
      "height": null,
      "justify_content": null,
      "justify_items": null,
      "left": null,
      "margin": null,
      "max_height": null,
      "max_width": null,
      "min_height": null,
      "min_width": null,
      "object_fit": null,
      "object_position": null,
      "order": null,
      "overflow": null,
      "overflow_x": null,
      "overflow_y": null,
      "padding": null,
      "right": null,
      "top": null,
      "visibility": null,
      "width": null
     }
    },
    "fd0d3b9268e9401e8a084b5542ad3965": {
     "model_module": "@jupyter-widgets/controls",
     "model_name": "ProgressStyleModel",
     "state": {
      "_model_module": "@jupyter-widgets/controls",
      "_model_module_version": "1.5.0",
      "_model_name": "ProgressStyleModel",
      "_view_count": null,
      "_view_module": "@jupyter-widgets/base",
      "_view_module_version": "1.2.0",
      "_view_name": "StyleView",
      "bar_color": null,
      "description_width": "initial"
     }
    }
   }
  }
 },
 "nbformat": 4,
 "nbformat_minor": 1
}
